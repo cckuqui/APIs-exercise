{
 "cells": [
  {
   "cell_type": "markdown",
   "execution_count": null,
   "metadata": {},
   "outputs": [],
   "source": [
    "# WeatherPy\n",
    "----\n",
    "\n",
    "#### Note\n",
    "* Instructions have been included for each segment. You do not have to follow them exactly, but they are included to help you think through the steps."
   ]
  },
  {
   "cell_type": "code",
   "execution_count": 1,
   "metadata": {},
   "outputs": [],
   "source": [
    "# Dependencies and Setup\n",
    "import matplotlib.pyplot as plt\n",
    "import pandas as pd\n",
    "import numpy as np\n",
    "import requests\n",
    "import time\n",
    "import scipy.stats as st\n",
    "\n",
    "# Import API key\n",
    "from api_keys import weather_api_key\n",
    "\n",
    "# Incorporated citipy to determine city based on latitude and longitude\n",
    "from citipy import citipy\n",
    "\n",
    "# Output File (CSV)\n",
    "output_data_file = \"cities.csv\"\n",
    "\n",
    "# Range of latitudes and longitudes\n",
    "lat_range = (-90, 90)\n",
    "lng_range = (-180, 180)"
   ]
  },
  {
   "cell_type": "markdown",
   "execution_count": null,
   "metadata": {},
   "outputs": [],
   "source": [
    "## Generate Cities List"
   ]
  },
  {
   "cell_type": "code",
   "execution_count": null,
   "metadata": {},
   "outputs": [],
   "source": [
    "# List for holding lat_lngs and cities\n",
    "lat_lngs = []\n",
    "cities = []\n",
    "\n",
    "# Create a set of random lat and lng combinations\n",
    "lats = np.random.uniform(low=-90.000, high=90.000, size=1500)\n",
    "lngs = np.random.uniform(low=-180.000, high=180.000, size=1500)\n",
    "lat_lngs = zip(lats, lngs)\n",
    "\n",
    "# Identify nearest city for each lat, lng combination\n",
    "for lat_lng in lat_lngs:\n",
    "    city = citipy.nearest_city(lat_lng[0], lat_lng[1]).city_name\n",
    "    \n",
    "    # If the city is unique, then add it to a our cities list\n",
    "    if city not in cities:\n",
    "        cities.append(city)\n",
    "\n",
    "# Print the city count to confirm sufficient count\n",
    "len(cities)"
   ]
  },
  {
   "cell_type": "markdown",
   "execution_count": null,
   "metadata": {},
   "outputs": [],
   "source": [
    "### Perform API Calls\n",
    "* Perform a weather check on each city using a series of successive API calls.\n",
    "* Include a print log of each city as it'sbeing processed (with the city number and city name).\n"
   ]
  },
  {
   "cell_type": "code",
   "execution_count": null,
   "metadata": {},
   "outputs": [],
   "source": [
    "# Load information abou the api\n",
    "url = \"http://api.openweathermap.org/data/2.5/weather?\"\n",
    "units = \"metric\"\n",
    "api_key = weather_api_key\n",
    "\n",
    "# Build partial url\n",
    "query_url = f\"{url}appid={api_key}&units={units}&q=\"\n",
    "\n",
    "# Create dataframe and add columns\n",
    "cities_df = pd.DataFrame({'City':cities})\n",
    "cities_df['Cloudiness'] = \"\"\n",
    "cities_df['Country'] = \"\"\n",
    "cities_df['Date'] = \"\"\n",
    "cities_df['Humidity'] = \"\"\n",
    "cities_df['Lat'] = \"\"\n",
    "cities_df['Lng'] = \"\"\n",
    "cities_df['Max Temp'] = \"\"\n",
    "cities_df['Wind Speed'] = \"\"\n",
    "\n",
    "# Use iterrows to iterate through cities dataframe\n",
    "for index, row in cities_df.iterrows():\n",
    "\n",
    "    # get restaurant type from df\n",
    "    city = row['Cities']\n",
    "\n",
    "    # assemble url and make API request   \n",
    "    response = requests.get(query_url+city).json()\n",
    "\n",
    "    try:     \n",
    "        cities_df.loc[index,'Cloudiness'] = response['clouds']['all']\n",
    "        cities_df.loc[index,'Country'] = response['sys']['country']\n",
    "        cities_df.loc[index,'Date'] = response['dt']\n",
    "        cities_df.loc[index,'Humidity'] = response['main']['humidity']\n",
    "        cities_df.loc[index,'Lat'] = response['coord']['lat']\n",
    "        cities_df.loc[index,'Lng'] = response['coord']['lon']\n",
    "        cities_df.loc[index,'Max Temp'] = response['main']['temp_max']\n",
    "        cities_df.loc[index,'Wind Speed'] = response['wind']['speed']\n",
    "        print(f\"Retrived information for country {response['id']} | {response['name']}.\")\n",
    "    \n",
    "    except (KeyError, IndexError):\n",
    "        print(\"{city} not found. Skipping.\")\n",
    "        \n",
    "    print(\"------------\")\n"
   ]
  },
  {
   "cell_type": "markdown",
   "execution_count": null,
   "metadata": {},
   "outputs": [],
   "source": [
    "### Convert Raw Data to DataFrame\n",
    "* Export the city data into a .csv.\n",
    "* Display the DataFrame"
   ]
  },
  {
   "cell_type": "code",
   "execution_count": null,
   "metadata": {},
   "outputs": [],
   "source": [
    "cities_df.count()"
   ]
  },
  {
   "cell_type": "code",
   "execution_count": null,
   "metadata": {},
   "outputs": [],
   "source": [
    "cities_df.to_csv('cities.csv')\n",
    "cities_df"
   ]
  },
  {
   "cell_type": "markdown",
   "execution_count": null,
   "metadata": {},
   "outputs": [],
   "source": [
    "### Plotting the Data\n",
    "* Use proper labeling of the plots using plot titles (including date of analysis) and axes labels.\n",
    "* Save the plotted figures as .pngs."
   ]
  },
  {
   "cell_type": "markdown",
   "execution_count": null,
   "metadata": {},
   "outputs": [],
   "source": [
    "#### Latitude vs. Temperature Plot"
   ]
  },
  {
   "cell_type": "code",
   "execution_count": null,
   "metadata": {},
   "outputs": [],
   "source": [
    "#  Change values of cities dataframe to numeric to plot them\n",
    "cities_df['Cloudiness'] = pd.to_numeric(cities_df['Cloudiness'])\n",
    "cities_df['Humidity'] = pd.to_numeric(cities_df['Humidity'])\n",
    "cities_df['Lat'] = pd.to_numeric(cities_df['Lat'])\n",
    "cities_df['Lng'] = pd.to_numeric(cities_df['Lng'])\n",
    "cities_df['Max Temp'] = pd.to_numeric(cities_df['Max Temp'])\n",
    "cities_df['Wind Speed'] = pd.to_numeric(cities_df['Wind Speed'])\n",
    "\n",
    "# Declare variables\n",
    "clouds = cities_df['Cloudiness']\n",
    "humidity = cities_df['Humidity']\n",
    "lat = cities_df['Lat']\n",
    "lng = cities_df['Lng']\n",
    "max_temp = cities_df['Max Temp']\n",
    "wind_speed = cities_df['Wind Speed']"
   ]
  },
  {
   "cell_type": "code",
   "execution_count": null,
   "metadata": {},
   "outputs": [],
   "source": [
    "plt.scatter(lat,max_temp, edgecolors='black',c='red')\n",
    "plt.title('City Latitude vs. Max Temperature')\n",
    "plt.xlabel('Latitude')\n",
    "plt.ylabel('Max Temperature Celcius')\n",
    "plt.grid()\n",
    "plt.show()"
   ]
  },
  {
   "cell_type": "markdown",
   "execution_count": null,
   "metadata": {},
   "outputs": [],
   "source": [
    "#### Latitude vs. Humidity Plot"
   ]
  },
  {
   "cell_type": "code",
   "execution_count": null,
   "metadata": {},
   "outputs": [],
   "source": [
    "plt.scatter(lat,humidity, edgecolors='black',c='navy')\n",
    "plt.title('City Latitude vs. Humidity')\n",
    "plt.xlabel('Latitude')\n",
    "plt.ylabel('Humidity %')\n",
    "plt.grid()\n",
    "plt.show()"
   ]
  },
  {
   "cell_type": "markdown",
   "execution_count": null,
   "metadata": {},
   "outputs": [],
   "source": [
    "#### Latitude vs. Cloudiness Plot"
   ]
  },
  {
   "cell_type": "code",
   "execution_count": null,
   "metadata": {},
   "outputs": [],
   "source": [
    "plt.scatter(lat,clouds, edgecolors='black',c='gray')\n",
    "plt.title('City Latitude vs. Cloudiness')\n",
    "plt.xlabel('Latitude')\n",
    "plt.ylabel('Cloudiness %')\n",
    "plt.grid()\n",
    "plt.show()"
   ]
  },
  {
   "cell_type": "markdown",
   "execution_count": null,
   "metadata": {},
   "outputs": [],
   "source": [
    "#### Latitude vs. Wind Speed Plot"
   ]
  },
  {
   "cell_type": "code",
   "execution_count": null,
   "metadata": {},
   "outputs": [],
   "source": [
    "plt.scatter(lat,wind_speed, edgecolors='black',c='white')\n",
    "plt.title('City Latitude vs. Wind Speed')\n",
    "plt.xlabel('Latitude')\n",
    "plt.ylabel('Wind Speed (mph)')\n",
    "plt.grid()\n",
    "plt.show()"
   ]
  },
  {
   "cell_type": "markdown",
   "execution_count": null,
   "metadata": {},
   "outputs": [],
   "source": [
    "## Linear Regression"
   ]
  },
  {
   "cell_type": "markdown",
   "execution_count": null,
   "metadata": {},
   "outputs": [],
   "source": [
    "### OPTIONAL: Create a function to create Linear Regression plots\n"
   ]
  },
  {
   "cell_type": "markdown",
   "execution_count": null,
   "metadata": {},
   "outputs": [],
   "source": [
    "#### Create Northern and Southern Hemisphere DataFrames\n"
   ]
  },
  {
   "cell_type": "code",
   "execution_count": null,
   "metadata": {},
   "outputs": [],
   "source": [
    "# Separe the hemisphere\n",
    "north = cities_df.loc[cities_df['Lat']>=0]\n",
    "south = cities_df.loc[cities_df['Lat']<0]\n",
    "\n",
    "# Declare south variables\n",
    "sclouds = south['Cloudiness']\n",
    "shumidity = south['Humidity']\n",
    "slat = south['Lat']\n",
    "slng = south['Lng']\n",
    "smax_temp = south['Max Temp']\n",
    "swind_speed = south['Wind Speed']\n",
    "\n",
    "# Declare north variables\n",
    "nclouds = north['Cloudiness']\n",
    "nhumidity = north['Humidity']\n",
    "nlat = north['Lat']\n",
    "nlng = north['Lng']\n",
    "nmax_temp = north['Max Temp']\n",
    "nwind_speed = north['Wind Speed']"
   ]
  },
  {
   "cell_type": "markdown",
   "execution_count": null,
   "metadata": {},
   "outputs": [],
   "source": [
    "####  Northern Hemisphere - Max Temp vs. Latitude Linear Regression"
   ]
  },
  {
   "cell_type": "code",
   "execution_count": null,
   "metadata": {},
   "outputs": [],
   "source": [
    "nmaxtemp_slope, nmaxtemp_int, nmaxtemp_r, nmaxtemp_p, nmaxtemp_std_err = st.linregress(nlat, nmax_temp)\n",
    "nmaxtemp_fit = nmaxtemp_slope * nlat + nmaxtemp_int\n",
    "line_eq = f'y = {str(round(nmaxtemp_slope,2))} x + {str(round(nmaxtemp_int,2))}'\n",
    "\n",
    "print(f'The r-squared is: {round(nmaxtemp_r,3)}')\n",
    "\n",
    "plt.scatter(nlat,nmax_temp, edgecolors='black',c='red')\n",
    "plt.plot(nlat,nmaxtemp_fit,\"b-\")\n",
    "plt.title('Northern Hemisphere: City Latitude vs. Max Temperature')\n",
    "plt.xlabel('Latitude')\n",
    "plt.ylabel('Max Temperature Celcius')\n",
    "plt.annotate(line_eq,(4,-26),fontsize=12,c='blue')\n",
    "plt.grid()\n",
    "plt.show()"
   ]
  },
  {
   "cell_type": "markdown",
   "execution_count": null,
   "metadata": {},
   "outputs": [],
   "source": [
    "####  Southern Hemisphere - Max Temp vs. Latitude Linear Regression"
   ]
  },
  {
   "cell_type": "code",
   "execution_count": null,
   "metadata": {},
   "outputs": [],
   "source": [
    "smaxtemp_slope, smaxtemp_int, smaxtemp_r, smaxtemp_p, smaxtemp_std_err = st.linregress(slat, smax_temp)\n",
    "smaxtemp_fit = smaxtemp_slope * slat + smaxtemp_int\n",
    "line_eq = f'y = {str(round(smaxtemp_slope,2))} x + {str(round(smaxtemp_int,2))}'\n",
    "\n",
    "print(f'The r-squared is: {round(smaxtemp_r,3)}')\n",
    "\n",
    "plt.scatter(slat,smax_temp, edgecolors='black',c='red')\n",
    "plt.plot(slat,smaxtemp_fit,\"b-\")\n",
    "plt.title('Southern Hemisphere: City Latitude vs. Max Temperature')\n",
    "plt.xlabel('Latitude')\n",
    "plt.ylabel('Max Temperature Celcius')\n",
    "plt.annotate(line_eq,(-25,7),fontsize=12,c='blue')\n",
    "plt.grid()\n",
    "plt.show()"
   ]
  },
  {
   "cell_type": "markdown",
   "execution_count": null,
   "metadata": {},
   "outputs": [],
   "source": [
    "####  Northern Hemisphere - Humidity (%) vs. Latitude Linear Regression"
   ]
  },
  {
   "cell_type": "code",
   "execution_count": null,
   "metadata": {},
   "outputs": [],
   "source": [
    "nhumidity_slope, nhumidity_int, nhumidity_r, nhumidity_p, nhumidity_std_err = st.linregress(nlat, nhumidity)\n",
    "nhumidity_fit = nhumidity_slope * nlat + nhumidity_int\n",
    "line_eq = f'y = {str(round(nhumidity_slope,2))} x + {str(round(nhumidity_int,2))}'\n",
    "\n",
    "print(f'The r-squared is: {round(nhumidity_r,3)}')\n",
    "\n",
    "plt.scatter(nlat,nhumidity, edgecolors='black',c='navy')\n",
    "plt.plot(nlat,nhumidity_fit,\"r-\")\n",
    "plt.title('Northern Hemisphere: City Latitude vs. Humidity')\n",
    "plt.xlabel('Latitude')\n",
    "plt.ylabel('Humidity')\n",
    "plt.annotate(line_eq,(45,15),fontsize=12,c='red')\n",
    "plt.grid()\n",
    "plt.show()"
   ]
  },
  {
   "cell_type": "markdown",
   "execution_count": null,
   "metadata": {},
   "outputs": [],
   "source": [
    "####  Southern Hemisphere - Humidity (%) vs. Latitude Linear Regression"
   ]
  },
  {
   "cell_type": "code",
   "execution_count": null,
   "metadata": {},
   "outputs": [],
   "source": [
    "shumidity_slope, shumidity_int, shumidity_r, shumidity_p, shumidity_std_err = st.linregress(slat, shumidity)\n",
    "shumidity_fit = shumidity_slope * slat + shumidity_int\n",
    "line_eq = f'y = {str(round(shumidity_slope,2))} x + {str(round(shumidity_int,2))}'\n",
    "\n",
    "print(f'The r-squared is: {round(shumidity_r,3)}')\n",
    "\n",
    "plt.scatter(slat,shumidity, edgecolors='black',c='navy')\n",
    "plt.plot(slat,shumidity_fit,\"r-\")\n",
    "plt.title('Southern Hemisphere: City Latitude vs. Humidity')\n",
    "plt.xlabel('Latitude')\n",
    "plt.ylabel('Humidity')\n",
    "plt.annotate(line_eq,(-55,15),fontsize=12,c='red')\n",
    "plt.grid()\n",
    "plt.show()"
   ]
  },
  {
   "cell_type": "markdown",
   "execution_count": null,
   "metadata": {},
   "outputs": [],
   "source": [
    "####  Northern Hemisphere - Cloudiness (%) vs. Latitude Linear Regression"
   ]
  },
  {
   "cell_type": "code",
   "execution_count": null,
   "metadata": {},
   "outputs": [],
   "source": [
    "nclouds_slope, nclouds_int, nclouds_r, nclouds_p, nclouds_std_err = st.linregress(nlat, nclouds)\n",
    "nclouds_fit = nclouds_slope * nlat + nclouds_int\n",
    "line_eq = f'y = {str(round(nclouds_slope,2))} x + {str(round(nclouds_int,2))}'\n",
    "\n",
    "print(f'The r-squared is: {round(nclouds_r,3)}')\n",
    "\n",
    "plt.scatter(nlat,nclouds, edgecolors='black',c='gray')\n",
    "plt.plot(nlat,nhumidity_fit,\"g-\")\n",
    "plt.title('Northern Hemisphere: City Latitude vs. Cloudiness')\n",
    "plt.xlabel('Latitude')\n",
    "plt.ylabel('Cloudiness %')\n",
    "plt.annotate(line_eq,(45,12),fontsize=12,c='red')\n",
    "plt.grid()\n",
    "plt.show()"
   ]
  },
  {
   "cell_type": "markdown",
   "execution_count": null,
   "metadata": {},
   "outputs": [],
   "source": [
    "####  Southern Hemisphere - Cloudiness (%) vs. Latitude Linear Regression"
   ]
  },
  {
   "cell_type": "code",
   "execution_count": null,
   "metadata": {},
   "outputs": [],
   "source": [
    "sclouds_slope, sclouds_int, sclouds_r, sclouds_p, sclouds_std_err = st.linregress(slat, sclouds)\n",
    "sclouds_fit = sclouds_slope * slat + sclouds_int\n",
    "line_eq = f'y = {str(round(sclouds_slope,2))} x + {str(round(sclouds_int,2))}'\n",
    "\n",
    "print(f'The r-squared is: {round(sclouds_r,3)}')\n",
    "\n",
    "plt.scatter(slat,sclouds, edgecolors='black',c='gray')\n",
    "plt.plot(slat,sclouds_fit,\"g-\")\n",
    "plt.title('Southern Hemisphere: City Latitude vs. Cloudiness')\n",
    "plt.xlabel('Latitude')\n",
    "plt.ylabel('Cloudiness %')\n",
    "plt.annotate(line_eq,(-55,13),fontsize=12,c='red')\n",
    "plt.grid()\n",
    "plt.show()"
   ]
  },
  {
   "cell_type": "markdown",
   "execution_count": null,
   "metadata": {},
   "outputs": [],
   "source": [
    "####  Northern Hemisphere - Wind Speed (mph) vs. Latitude Linear Regression"
   ]
  },
  {
   "cell_type": "code",
   "execution_count": null,
   "metadata": {},
   "outputs": [],
   "source": [
    "nwind_speed_slope, nwind_speed_int, nwind_speed_r, nwind_speed_p, nwind_speed_std_err = st.linregress(nlat, nwind_speed)\n",
    "nwind_speed_fit = nwind_speed_slope * nlat + nwind_speed_int\n",
    "line_eq = f'y = {str(round(nwind_speed_slope,2))} x + {str(round(nwind_speed_int,2))}'\n",
    "\n",
    "print(f'The r-squared is: {round(nwind_speed_r,3)}')\n",
    "\n",
    "plt.scatter(nlat,nwind_speed, edgecolors='black',c='white')\n",
    "plt.plot(nlat,nwind_speed_fit,\"b-\")\n",
    "plt.title('Northern Hemisphere: City Latitude vs. Wind Speed')\n",
    "plt.xlabel('Latitude')\n",
    "plt.ylabel('Wind Speed')\n",
    "plt.annotate(line_eq,(5,13),fontsize=12,c='red')\n",
    "plt.grid()\n",
    "plt.show()"
   ]
  },
  {
   "cell_type": "markdown",
   "execution_count": null,
   "metadata": {},
   "outputs": [],
   "source": [
    "####  Southern Hemisphere - Wind Speed (mph) vs. Latitude Linear Regression"
   ]
  },
  {
   "cell_type": "code",
   "execution_count": null,
   "metadata": {},
   "outputs": [],
   "source": [
    "swind_speed_slope, swind_speed_int, swind_speed_r, swind_speed_p, swind_speed_std_err = st.linregress(slat, swind_speed)\n",
    "swind_speed_fit = swind_speed_slope * slat + swind_speed_int\n",
    "line_eq = f'y = {str(round(swind_speed_slope,2))} x + {str(round(swind_speed_int,2))}'\n",
    "\n",
    "print(f'The r-squared is: {round(swind_speed_r,3)}')\n",
    "\n",
    "plt.scatter(slat,swind_speed, edgecolors='black',c='white')\n",
    "plt.plot(slat,swind_speed_fit,\"b-\")\n",
    "plt.title('Southern Hemisphere: City Latitude vs. Wind Speed')\n",
    "plt.xlabel('Latitude')\n",
    "plt.ylabel('Wind Speed')\n",
    "plt.annotate(line_eq,(-50,13),fontsize=12,c='red')\n",
    "plt.grid()\n",
    "plt.show()"
   ]
  },
  {
   "cell_type": "code",
   "execution_count": null,
   "metadata": {},
   "outputs": [],
   "source": []
  }
 ],
 "metadata": {
  "anaconda-cloud": {},
  "kernel_info": {
   "name": "python3"
  },
  "kernelspec": {
   "display_name": "Python 3.7.4 64-bit ('base': conda)",
   "language": "python",
   "name": "python37464bitbaseconda1f272b08825b44268b0b382f97a12fd9"
  },
  "language_info": {
   "codemirror_mode": {
    "name": "ipython",
    "version": 3
   },
   "file_extension": ".py",
   "mimetype": "text/x-python",
   "name": "python",
   "nbconvert_exporter": "python",
   "pygments_lexer": "ipython3",
   "version": "3.7.4-final"
  },
  "latex_envs": {
   "LaTeX_envs_menu_present": true,
   "autoclose": false,
   "autocomplete": true,
   "bibliofile": "biblio.bib",
   "cite_by": "apalike",
   "current_citInitial": 1,
   "eqLabelWithNumbers": true,
   "eqNumInitial": 1,
   "hotkeys": {
    "equation": "Ctrl-E",
    "itemize": "Ctrl-I"
   },
   "labels_anchors": false,
   "latex_user_defs": false,
   "report_style_numbering": false,
   "user_envs_cfg": false
  },
  "nteract": {
   "version": "0.12.3"
  }
 },
 "nbformat": 4,
 "nbformat_minor": 2
}