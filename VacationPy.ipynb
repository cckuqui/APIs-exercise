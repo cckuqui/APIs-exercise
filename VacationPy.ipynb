{
 "cells": [
  {
   "cell_type": "markdown",
   "execution_count": null,
   "metadata": {},
   "outputs": [],
   "source": [
    "# VacationPy\n",
    "----\n",
    "\n",
    "#### Note\n",
    "* Instructions have been included for each segment. You do not have to follow them exactly, but they are included to help you think through the steps."
   ]
  },
  {
   "cell_type": "code",
   "execution_count": 1,
   "metadata": {},
   "outputs": [],
   "source": [
    "# Dependencies and Setup\n",
    "import matplotlib.pyplot as plt\n",
    "import pandas as pd\n",
    "import numpy as np\n",
    "import requests\n",
    "import gmaps\n",
    "import os\n",
    "\n",
    "# Import API key\n",
    "from api_keys import g_key\n"
   ]
  },
  {
   "cell_type": "markdown",
   "execution_count": null,
   "metadata": {},
   "outputs": [],
   "source": [
    "### Store Part I results into DataFrame\n",
    "* Load the csv exported in Part I to a DataFrame"
   ]
  },
  {
   "cell_type": "code",
   "execution_count": 2,
   "metadata": {},
   "outputs": [
    {
     "data": {
      "text/html": "<div>\n<style scoped>\n    .dataframe tbody tr th:only-of-type {\n        vertical-align: middle;\n    }\n\n    .dataframe tbody tr th {\n        vertical-align: top;\n    }\n\n    .dataframe thead th {\n        text-align: right;\n    }\n</style>\n<table border=\"1\" class=\"dataframe\">\n  <thead>\n    <tr style=\"text-align: right;\">\n      <th></th>\n      <th>Unnamed: 0</th>\n      <th>City</th>\n      <th>Cloudiness</th>\n      <th>Country</th>\n      <th>Date</th>\n      <th>Humidity</th>\n      <th>Lat</th>\n      <th>Lng</th>\n      <th>Max Temp</th>\n      <th>Wind Speed</th>\n    </tr>\n  </thead>\n  <tbody>\n    <tr>\n      <td>0</td>\n      <td>0</td>\n      <td>albany</td>\n      <td>75.0</td>\n      <td>US</td>\n      <td>1.582838e+09</td>\n      <td>47.0</td>\n      <td>42.60</td>\n      <td>-73.97</td>\n      <td>1.67</td>\n      <td>9.80</td>\n    </tr>\n    <tr>\n      <td>1</td>\n      <td>1</td>\n      <td>iqaluit</td>\n      <td>20.0</td>\n      <td>CA</td>\n      <td>1.582838e+09</td>\n      <td>68.0</td>\n      <td>63.75</td>\n      <td>-68.51</td>\n      <td>-27.78</td>\n      <td>1.00</td>\n    </tr>\n    <tr>\n      <td>2</td>\n      <td>2</td>\n      <td>mar del plata</td>\n      <td>0.0</td>\n      <td>AR</td>\n      <td>1.582838e+09</td>\n      <td>30.0</td>\n      <td>-38.00</td>\n      <td>-57.56</td>\n      <td>31.67</td>\n      <td>7.20</td>\n    </tr>\n    <tr>\n      <td>3</td>\n      <td>3</td>\n      <td>hofn</td>\n      <td>100.0</td>\n      <td>IS</td>\n      <td>1.582838e+09</td>\n      <td>78.0</td>\n      <td>64.25</td>\n      <td>-15.21</td>\n      <td>0.01</td>\n      <td>14.18</td>\n    </tr>\n    <tr>\n      <td>4</td>\n      <td>4</td>\n      <td>punta arenas</td>\n      <td>20.0</td>\n      <td>CL</td>\n      <td>1.582838e+09</td>\n      <td>54.0</td>\n      <td>-53.15</td>\n      <td>-70.92</td>\n      <td>14.00</td>\n      <td>16.50</td>\n    </tr>\n    <tr>\n      <td>...</td>\n      <td>...</td>\n      <td>...</td>\n      <td>...</td>\n      <td>...</td>\n      <td>...</td>\n      <td>...</td>\n      <td>...</td>\n      <td>...</td>\n      <td>...</td>\n      <td>...</td>\n    </tr>\n    <tr>\n      <td>572</td>\n      <td>572</td>\n      <td>kidal</td>\n      <td>0.0</td>\n      <td>ML</td>\n      <td>1.582838e+09</td>\n      <td>8.0</td>\n      <td>18.44</td>\n      <td>1.41</td>\n      <td>21.86</td>\n      <td>3.91</td>\n    </tr>\n    <tr>\n      <td>573</td>\n      <td>573</td>\n      <td>kralendijk</td>\n      <td>75.0</td>\n      <td>BQ</td>\n      <td>1.582838e+09</td>\n      <td>62.0</td>\n      <td>12.15</td>\n      <td>-68.27</td>\n      <td>30.00</td>\n      <td>5.10</td>\n    </tr>\n    <tr>\n      <td>574</td>\n      <td>574</td>\n      <td>coahuayana</td>\n      <td>40.0</td>\n      <td>MX</td>\n      <td>1.582838e+09</td>\n      <td>54.0</td>\n      <td>18.73</td>\n      <td>-103.68</td>\n      <td>27.00</td>\n      <td>2.60</td>\n    </tr>\n    <tr>\n      <td>575</td>\n      <td>575</td>\n      <td>kloulklubed</td>\n      <td>90.0</td>\n      <td>PW</td>\n      <td>1.582838e+09</td>\n      <td>88.0</td>\n      <td>7.04</td>\n      <td>134.26</td>\n      <td>26.00</td>\n      <td>5.10</td>\n    </tr>\n    <tr>\n      <td>576</td>\n      <td>576</td>\n      <td>bronnoysund</td>\n      <td>98.0</td>\n      <td>NO</td>\n      <td>1.582838e+09</td>\n      <td>54.0</td>\n      <td>65.46</td>\n      <td>12.20</td>\n      <td>-1.00</td>\n      <td>10.30</td>\n    </tr>\n  </tbody>\n</table>\n<p>577 rows × 10 columns</p>\n</div>",
      "text/plain": "     Unnamed: 0           City  Cloudiness Country          Date  Humidity  \\\n0             0         albany        75.0      US  1.582838e+09      47.0   \n1             1        iqaluit        20.0      CA  1.582838e+09      68.0   \n2             2  mar del plata         0.0      AR  1.582838e+09      30.0   \n3             3           hofn       100.0      IS  1.582838e+09      78.0   \n4             4   punta arenas        20.0      CL  1.582838e+09      54.0   \n..          ...            ...         ...     ...           ...       ...   \n572         572          kidal         0.0      ML  1.582838e+09       8.0   \n573         573     kralendijk        75.0      BQ  1.582838e+09      62.0   \n574         574     coahuayana        40.0      MX  1.582838e+09      54.0   \n575         575    kloulklubed        90.0      PW  1.582838e+09      88.0   \n576         576    bronnoysund        98.0      NO  1.582838e+09      54.0   \n\n       Lat     Lng  Max Temp  Wind Speed  \n0    42.60  -73.97      1.67        9.80  \n1    63.75  -68.51    -27.78        1.00  \n2   -38.00  -57.56     31.67        7.20  \n3    64.25  -15.21      0.01       14.18  \n4   -53.15  -70.92     14.00       16.50  \n..     ...     ...       ...         ...  \n572  18.44    1.41     21.86        3.91  \n573  12.15  -68.27     30.00        5.10  \n574  18.73 -103.68     27.00        2.60  \n575   7.04  134.26     26.00        5.10  \n576  65.46   12.20     -1.00       10.30  \n\n[577 rows x 10 columns]"
     },
     "execution_count": 2,
     "metadata": {},
     "output_type": "execute_result"
    }
   ],
   "source": [
    "cities_df = pd.read_csv(\"Weatherpy/cities.csv\")\n",
    "cities_df"
   ]
  },
  {
   "cell_type": "code",
   "execution_count": 3,
   "metadata": {},
   "outputs": [
    {
     "data": {
      "text/html": "<div>\n<style scoped>\n    .dataframe tbody tr th:only-of-type {\n        vertical-align: middle;\n    }\n\n    .dataframe tbody tr th {\n        vertical-align: top;\n    }\n\n    .dataframe thead th {\n        text-align: right;\n    }\n</style>\n<table border=\"1\" class=\"dataframe\">\n  <thead>\n    <tr style=\"text-align: right;\">\n      <th></th>\n      <th>City</th>\n      <th>Cloudiness</th>\n      <th>Country</th>\n      <th>Date</th>\n      <th>Humidity</th>\n      <th>Lat</th>\n      <th>Lng</th>\n      <th>Max Temp</th>\n      <th>Wind Speed</th>\n    </tr>\n  </thead>\n  <tbody>\n    <tr>\n      <td>0</td>\n      <td>albany</td>\n      <td>75.0</td>\n      <td>US</td>\n      <td>1.582838e+09</td>\n      <td>47.0</td>\n      <td>42.60</td>\n      <td>-73.97</td>\n      <td>1.67</td>\n      <td>9.80</td>\n    </tr>\n    <tr>\n      <td>1</td>\n      <td>iqaluit</td>\n      <td>20.0</td>\n      <td>CA</td>\n      <td>1.582838e+09</td>\n      <td>68.0</td>\n      <td>63.75</td>\n      <td>-68.51</td>\n      <td>-27.78</td>\n      <td>1.00</td>\n    </tr>\n    <tr>\n      <td>2</td>\n      <td>mar del plata</td>\n      <td>0.0</td>\n      <td>AR</td>\n      <td>1.582838e+09</td>\n      <td>30.0</td>\n      <td>-38.00</td>\n      <td>-57.56</td>\n      <td>31.67</td>\n      <td>7.20</td>\n    </tr>\n    <tr>\n      <td>3</td>\n      <td>hofn</td>\n      <td>100.0</td>\n      <td>IS</td>\n      <td>1.582838e+09</td>\n      <td>78.0</td>\n      <td>64.25</td>\n      <td>-15.21</td>\n      <td>0.01</td>\n      <td>14.18</td>\n    </tr>\n    <tr>\n      <td>4</td>\n      <td>punta arenas</td>\n      <td>20.0</td>\n      <td>CL</td>\n      <td>1.582838e+09</td>\n      <td>54.0</td>\n      <td>-53.15</td>\n      <td>-70.92</td>\n      <td>14.00</td>\n      <td>16.50</td>\n    </tr>\n    <tr>\n      <td>...</td>\n      <td>...</td>\n      <td>...</td>\n      <td>...</td>\n      <td>...</td>\n      <td>...</td>\n      <td>...</td>\n      <td>...</td>\n      <td>...</td>\n      <td>...</td>\n    </tr>\n    <tr>\n      <td>572</td>\n      <td>kidal</td>\n      <td>0.0</td>\n      <td>ML</td>\n      <td>1.582838e+09</td>\n      <td>8.0</td>\n      <td>18.44</td>\n      <td>1.41</td>\n      <td>21.86</td>\n      <td>3.91</td>\n    </tr>\n    <tr>\n      <td>573</td>\n      <td>kralendijk</td>\n      <td>75.0</td>\n      <td>BQ</td>\n      <td>1.582838e+09</td>\n      <td>62.0</td>\n      <td>12.15</td>\n      <td>-68.27</td>\n      <td>30.00</td>\n      <td>5.10</td>\n    </tr>\n    <tr>\n      <td>574</td>\n      <td>coahuayana</td>\n      <td>40.0</td>\n      <td>MX</td>\n      <td>1.582838e+09</td>\n      <td>54.0</td>\n      <td>18.73</td>\n      <td>-103.68</td>\n      <td>27.00</td>\n      <td>2.60</td>\n    </tr>\n    <tr>\n      <td>575</td>\n      <td>kloulklubed</td>\n      <td>90.0</td>\n      <td>PW</td>\n      <td>1.582838e+09</td>\n      <td>88.0</td>\n      <td>7.04</td>\n      <td>134.26</td>\n      <td>26.00</td>\n      <td>5.10</td>\n    </tr>\n    <tr>\n      <td>576</td>\n      <td>bronnoysund</td>\n      <td>98.0</td>\n      <td>NO</td>\n      <td>1.582838e+09</td>\n      <td>54.0</td>\n      <td>65.46</td>\n      <td>12.20</td>\n      <td>-1.00</td>\n      <td>10.30</td>\n    </tr>\n  </tbody>\n</table>\n<p>577 rows × 9 columns</p>\n</div>",
      "text/plain": "              City  Cloudiness Country          Date  Humidity    Lat     Lng  \\\n0           albany        75.0      US  1.582838e+09      47.0  42.60  -73.97   \n1          iqaluit        20.0      CA  1.582838e+09      68.0  63.75  -68.51   \n2    mar del plata         0.0      AR  1.582838e+09      30.0 -38.00  -57.56   \n3             hofn       100.0      IS  1.582838e+09      78.0  64.25  -15.21   \n4     punta arenas        20.0      CL  1.582838e+09      54.0 -53.15  -70.92   \n..             ...         ...     ...           ...       ...    ...     ...   \n572          kidal         0.0      ML  1.582838e+09       8.0  18.44    1.41   \n573     kralendijk        75.0      BQ  1.582838e+09      62.0  12.15  -68.27   \n574     coahuayana        40.0      MX  1.582838e+09      54.0  18.73 -103.68   \n575    kloulklubed        90.0      PW  1.582838e+09      88.0   7.04  134.26   \n576    bronnoysund        98.0      NO  1.582838e+09      54.0  65.46   12.20   \n\n     Max Temp  Wind Speed  \n0        1.67        9.80  \n1      -27.78        1.00  \n2       31.67        7.20  \n3        0.01       14.18  \n4       14.00       16.50  \n..        ...         ...  \n572     21.86        3.91  \n573     30.00        5.10  \n574     27.00        2.60  \n575     26.00        5.10  \n576     -1.00       10.30  \n\n[577 rows x 9 columns]"
     },
     "execution_count": 3,
     "metadata": {},
     "output_type": "execute_result"
    }
   ],
   "source": [
    "cities_df = cities_df.drop(columns='Unnamed: 0')\n",
    "cities_df"
   ]
  },
  {
   "cell_type": "markdown",
   "execution_count": null,
   "metadata": {},
   "outputs": [],
   "source": [
    "### Humidity Heatmap\n",
    "* Configure gmaps.\n",
    "* Use the Lat and Lng as locations and Humidity as the weight.\n",
    "* Add Heatmap layer to map."
   ]
  },
  {
   "cell_type": "code",
   "execution_count": 5,
   "metadata": {},
   "outputs": [],
   "source": [
    "gmaps.configure(api_key=g_key)\n",
    "\n",
    "locations = cities_df[[\"Lat\", \"Lng\"]]\n",
    "clouds = cities_df['Cloudiness']\n",
    "humidity = cities_df['Humidity']\n",
    "max_temp = cities_df['Max Temp']\n",
    "wind_speed = cities_df['Wind Speed']"
   ]
  },
  {
   "cell_type": "code",
   "execution_count": 17,
   "metadata": {},
   "outputs": [
    {
     "data": {
      "application/vnd.jupyter.widget-view+json": {
       "model_id": "f8d278c6b2174a1d8c26bb1ea3ba9726",
       "version_major": 2,
       "version_minor": 0
      },
      "text/plain": "Figure(layout=FigureLayout(height='420px'))"
     },
     "metadata": {},
     "output_type": "display_data"
    }
   ],
   "source": [
    "fig = gmaps.figure()\n",
    "\n",
    "heat_layer = gmaps.heatmap_layer(locations, weights=humidity, dissipating=False, max_intensity=100, point_radius = 1)\n",
    "fig.add_layer(heat_layer)\n",
    "\n",
    "fig"
   ]
  },
  {
   "cell_type": "markdown",
   "execution_count": null,
   "metadata": {},
   "outputs": [],
   "source": [
    "### Create new DataFrame fitting weather criteria\n",
    "* Narrow down the cities to fit weather conditions.\n",
    "* Drop any rows will null values."
   ]
  },
  {
   "cell_type": "code",
   "execution_count": 57,
   "metadata": {},
   "outputs": [
    {
     "data": {
      "text/html": "<div>\n<style scoped>\n    .dataframe tbody tr th:only-of-type {\n        vertical-align: middle;\n    }\n\n    .dataframe tbody tr th {\n        vertical-align: top;\n    }\n\n    .dataframe thead th {\n        text-align: right;\n    }\n</style>\n<table border=\"1\" class=\"dataframe\">\n  <thead>\n    <tr style=\"text-align: right;\">\n      <th></th>\n      <th>City</th>\n      <th>Cloudiness</th>\n      <th>Country</th>\n      <th>Date</th>\n      <th>Humidity</th>\n      <th>Lat</th>\n      <th>Lng</th>\n      <th>Max Temp</th>\n      <th>Wind Speed</th>\n    </tr>\n  </thead>\n  <tbody>\n    <tr>\n      <td>79</td>\n      <td>port alfred</td>\n      <td>94.0</td>\n      <td>ZA</td>\n      <td>1.582838e+09</td>\n      <td>95.0</td>\n      <td>-33.59</td>\n      <td>26.89</td>\n      <td>16.67</td>\n      <td>8.42</td>\n    </tr>\n    <tr>\n      <td>96</td>\n      <td>butaritari</td>\n      <td>95.0</td>\n      <td>KI</td>\n      <td>1.582838e+09</td>\n      <td>80.0</td>\n      <td>3.07</td>\n      <td>172.79</td>\n      <td>29.10</td>\n      <td>9.02</td>\n    </tr>\n    <tr>\n      <td>154</td>\n      <td>richards bay</td>\n      <td>100.0</td>\n      <td>ZA</td>\n      <td>1.582838e+09</td>\n      <td>81.0</td>\n      <td>-28.78</td>\n      <td>32.04</td>\n      <td>25.85</td>\n      <td>10.64</td>\n    </tr>\n    <tr>\n      <td>183</td>\n      <td>kununurra</td>\n      <td>90.0</td>\n      <td>AU</td>\n      <td>1.582838e+09</td>\n      <td>94.0</td>\n      <td>-15.77</td>\n      <td>128.73</td>\n      <td>26.00</td>\n      <td>8.70</td>\n    </tr>\n    <tr>\n      <td>237</td>\n      <td>conceicao da barra</td>\n      <td>45.0</td>\n      <td>BR</td>\n      <td>1.582838e+09</td>\n      <td>82.0</td>\n      <td>-18.59</td>\n      <td>-39.73</td>\n      <td>27.52</td>\n      <td>10.00</td>\n    </tr>\n    <tr>\n      <td>244</td>\n      <td>praia da vitoria</td>\n      <td>40.0</td>\n      <td>PT</td>\n      <td>1.582838e+09</td>\n      <td>93.0</td>\n      <td>38.73</td>\n      <td>-27.07</td>\n      <td>17.00</td>\n      <td>8.12</td>\n    </tr>\n    <tr>\n      <td>418</td>\n      <td>sulangan</td>\n      <td>90.0</td>\n      <td>PH</td>\n      <td>1.582838e+09</td>\n      <td>80.0</td>\n      <td>11.14</td>\n      <td>123.72</td>\n      <td>26.61</td>\n      <td>9.86</td>\n    </tr>\n    <tr>\n      <td>520</td>\n      <td>mogadishu</td>\n      <td>100.0</td>\n      <td>SO</td>\n      <td>1.582838e+09</td>\n      <td>84.0</td>\n      <td>2.04</td>\n      <td>45.34</td>\n      <td>27.20</td>\n      <td>9.13</td>\n    </tr>\n  </tbody>\n</table>\n</div>",
      "text/plain": "                   City  Cloudiness Country          Date  Humidity    Lat  \\\n79          port alfred        94.0      ZA  1.582838e+09      95.0 -33.59   \n96           butaritari        95.0      KI  1.582838e+09      80.0   3.07   \n154        richards bay       100.0      ZA  1.582838e+09      81.0 -28.78   \n183           kununurra        90.0      AU  1.582838e+09      94.0 -15.77   \n237  conceicao da barra        45.0      BR  1.582838e+09      82.0 -18.59   \n244    praia da vitoria        40.0      PT  1.582838e+09      93.0  38.73   \n418            sulangan        90.0      PH  1.582838e+09      80.0  11.14   \n520           mogadishu       100.0      SO  1.582838e+09      84.0   2.04   \n\n        Lng  Max Temp  Wind Speed  \n79    26.89     16.67        8.42  \n96   172.79     29.10        9.02  \n154   32.04     25.85       10.64  \n183  128.73     26.00        8.70  \n237  -39.73     27.52       10.00  \n244  -27.07     17.00        8.12  \n418  123.72     26.61        9.86  \n520   45.34     27.20        9.13  "
     },
     "execution_count": 57,
     "metadata": {},
     "output_type": "execute_result"
    }
   ],
   "source": [
    "ideal_weather = cities_df.loc[max_temp < 30].loc[max_temp > 10].loc[wind_speed > 8].loc[clouds > 20]\n",
    "ideal_weather['Lat'] = pd.to_numeric(ideal_weather['Lat'])\n",
    "ideal_weather['Lng'] = pd.to_numeric(ideal_weather['Lng'])\n",
    "ideal_weather"
   ]
  },
  {
   "cell_type": "markdown",
   "execution_count": null,
   "metadata": {},
   "outputs": [],
   "source": [
    "### Hotel Map\n",
    "* Store into variable named `hotel_df`.\n",
    "* Add a \"Hotel Name\" column to the DataFrame.\n",
    "* Set parameters to search for hotels with 5000 meters.\n",
    "* Hit the Google Places API for each city's coordinates.\n",
    "* Store the first Hotel result into the DataFrame.\n",
    "* Plot markers on top of the heatmap."
   ]
  },
  {
   "cell_type": "code",
   "execution_count": 62,
   "metadata": {},
   "outputs": [
    {
     "data": {
      "text/plain": "City           object\nCloudiness    float64\nCountry        object\nDate          float64\nHumidity      float64\nLat           float64\nLng           float64\nMax Temp      float64\nWind Speed    float64\nHotel Name     object\ndtype: object"
     },
     "execution_count": 62,
     "metadata": {},
     "output_type": "execute_result"
    }
   ],
   "source": [
    "hotel_df = ideal_weather\n",
    "hotel_df['Hotel Name'] = \"\""
   ]
  },
  {
   "cell_type": "code",
   "execution_count": 72,
   "metadata": {},
   "outputs": [
    {
     "name": "stdout",
     "output_type": "stream",
     "text": "Retrieving Results for: port alfred.\n{'html_attributions': [], 'results': [], 'status': 'INVALID_REQUEST'}\nRetrieving Results for: butaritari.\n{'html_attributions': [], 'results': [], 'status': 'INVALID_REQUEST'}\nRetrieving Results for: richards bay.\n{'html_attributions': [], 'results': [], 'status': 'INVALID_REQUEST'}\nRetrieving Results for: kununurra.\n{'html_attributions': [], 'results': [], 'status': 'INVALID_REQUEST'}\nRetrieving Results for: conceicao da barra.\n{'html_attributions': [], 'results': [], 'status': 'INVALID_REQUEST'}\nRetrieving Results for: praia da vitoria.\n{'html_attributions': [], 'results': [], 'status': 'INVALID_REQUEST'}\nRetrieving Results for: sulangan.\n"
    }
   ],
   "source": [
    "base_url = \"https://maps.googleapis.com/maps/api/place/nearbysearch/json\"\n",
    "\n",
    "params = {\"type\":\"lodging\",\"key\":g_key,\"radius\":5000}\n",
    "\n",
    "for index, row in hotel_df.iterrows():\n",
    "\n",
    "    lat = row['Lat']\n",
    "    lng = row['Lng']\n",
    "    params['location'] = lat, lng\n",
    "\n",
    "    print(f\"Retrieving Results for: {row['City']}.\")\n",
    "    response = requests.get(base_url, params=params).json()\n",
    "    # results = response['results']\n",
    "    print(response)\n",
    "\n",
    "    # try:\n",
    "    #     # print(f\"Closest hotel is {results[0]['name']}.\")     \n",
    "    #     # hotel_df.loc[index, 'Hotel Name'] = results[0]['name']\n",
    "        \n",
    "    # except (KeyError, IndexError):\n",
    "    #     print(\"Missing field/result... skipping.\")\n",
    "        \n",
    "    # print(\"------------\")"
   ]
  },
  {
   "cell_type": "code",
   "execution_count": 44,
   "metadata": {},
   "outputs": [
    {
     "data": {
      "text/html": "<div>\n<style scoped>\n    .dataframe tbody tr th:only-of-type {\n        vertical-align: middle;\n    }\n\n    .dataframe tbody tr th {\n        vertical-align: top;\n    }\n\n    .dataframe thead th {\n        text-align: right;\n    }\n</style>\n<table border=\"1\" class=\"dataframe\">\n  <thead>\n    <tr style=\"text-align: right;\">\n      <th></th>\n      <th>City</th>\n      <th>Cloudiness</th>\n      <th>Country</th>\n      <th>Date</th>\n      <th>Humidity</th>\n      <th>Lat</th>\n      <th>Lng</th>\n      <th>Max Temp</th>\n      <th>Wind Speed</th>\n      <th>Hotel Name</th>\n    </tr>\n  </thead>\n  <tbody>\n    <tr>\n      <td>79</td>\n      <td>port alfred</td>\n      <td>94.0</td>\n      <td>ZA</td>\n      <td>1.582838e+09</td>\n      <td>95.0</td>\n      <td>-33.59</td>\n      <td>26.89</td>\n      <td>16.67</td>\n      <td>8.42</td>\n      <td></td>\n    </tr>\n    <tr>\n      <td>96</td>\n      <td>butaritari</td>\n      <td>95.0</td>\n      <td>KI</td>\n      <td>1.582838e+09</td>\n      <td>80.0</td>\n      <td>3.07</td>\n      <td>172.79</td>\n      <td>29.10</td>\n      <td>9.02</td>\n      <td></td>\n    </tr>\n    <tr>\n      <td>154</td>\n      <td>richards bay</td>\n      <td>100.0</td>\n      <td>ZA</td>\n      <td>1.582838e+09</td>\n      <td>81.0</td>\n      <td>-28.78</td>\n      <td>32.04</td>\n      <td>25.85</td>\n      <td>10.64</td>\n      <td></td>\n    </tr>\n    <tr>\n      <td>183</td>\n      <td>kununurra</td>\n      <td>90.0</td>\n      <td>AU</td>\n      <td>1.582838e+09</td>\n      <td>94.0</td>\n      <td>-15.77</td>\n      <td>128.73</td>\n      <td>26.00</td>\n      <td>8.70</td>\n      <td></td>\n    </tr>\n    <tr>\n      <td>237</td>\n      <td>conceicao da barra</td>\n      <td>45.0</td>\n      <td>BR</td>\n      <td>1.582838e+09</td>\n      <td>82.0</td>\n      <td>-18.59</td>\n      <td>-39.73</td>\n      <td>27.52</td>\n      <td>10.00</td>\n      <td></td>\n    </tr>\n    <tr>\n      <td>244</td>\n      <td>praia da vitoria</td>\n      <td>40.0</td>\n      <td>PT</td>\n      <td>1.582838e+09</td>\n      <td>93.0</td>\n      <td>38.73</td>\n      <td>-27.07</td>\n      <td>17.00</td>\n      <td>8.12</td>\n      <td></td>\n    </tr>\n    <tr>\n      <td>418</td>\n      <td>sulangan</td>\n      <td>90.0</td>\n      <td>PH</td>\n      <td>1.582838e+09</td>\n      <td>80.0</td>\n      <td>11.14</td>\n      <td>123.72</td>\n      <td>26.61</td>\n      <td>9.86</td>\n      <td></td>\n    </tr>\n    <tr>\n      <td>520</td>\n      <td>mogadishu</td>\n      <td>100.0</td>\n      <td>SO</td>\n      <td>1.582838e+09</td>\n      <td>84.0</td>\n      <td>2.04</td>\n      <td>45.34</td>\n      <td>27.20</td>\n      <td>9.13</td>\n      <td></td>\n    </tr>\n  </tbody>\n</table>\n</div>",
      "text/plain": "                   City  Cloudiness Country          Date  Humidity    Lat  \\\n79          port alfred        94.0      ZA  1.582838e+09      95.0 -33.59   \n96           butaritari        95.0      KI  1.582838e+09      80.0   3.07   \n154        richards bay       100.0      ZA  1.582838e+09      81.0 -28.78   \n183           kununurra        90.0      AU  1.582838e+09      94.0 -15.77   \n237  conceicao da barra        45.0      BR  1.582838e+09      82.0 -18.59   \n244    praia da vitoria        40.0      PT  1.582838e+09      93.0  38.73   \n418            sulangan        90.0      PH  1.582838e+09      80.0  11.14   \n520           mogadishu       100.0      SO  1.582838e+09      84.0   2.04   \n\n        Lng  Max Temp  Wind Speed Hotel Name  \n79    26.89     16.67        8.42             \n96   172.79     29.10        9.02             \n154   32.04     25.85       10.64             \n183  128.73     26.00        8.70             \n237  -39.73     27.52       10.00             \n244  -27.07     17.00        8.12             \n418  123.72     26.61        9.86             \n520   45.34     27.20        9.13             "
     },
     "execution_count": 44,
     "metadata": {},
     "output_type": "execute_result"
    }
   ],
   "source": [
    "hotel_df\n"
   ]
  },
  {
   "cell_type": "code",
   "execution_count": null,
   "metadata": {},
   "outputs": [],
   "source": [
    "# NOTE: Do not change any of the code in this cell\n",
    "\n",
    "# Using the template add the hotel marks to the heatmap\n",
    "info_box_template = \"\"\"\n",
    "<dl>\n",
    "<dt>Name</dt><dd>{Hotel Name}</dd>\n",
    "<dt>City</dt><dd>{City}</dd>\n",
    "<dt>Country</dt><dd>{Country}</dd>\n",
    "</dl>\n",
    "\"\"\"\n",
    "# Store the DataFrame Row\n",
    "# NOTE: be sure to update with your DataFrame name\n",
    "hotel_info = [info_box_template.format(**row) for index, row in narrowed_city_df.iterrows()]\n",
    "locations = hotel_df[[\"Lat\", \"Lng\"]]"
   ]
  },
  {
   "cell_type": "code",
   "execution_count": null,
   "metadata": {},
   "outputs": [],
   "source": [
    "hotel_layer = gmaps.symbol_layer(locations, fill_color='rgba(0, 150, 0, 0.4)', stroke_color='rgba(0, 0, 150, 0.4)', scale=2, info_box_content=hotel_info)\n",
    "\n",
    "# Add marker layer ontop of heat map\n",
    "fig = gmaps.figure()\n",
    "\n",
    "fig.add_layer(heat_layer)\n",
    "fig.add_layer(hotel_layer)\n",
    "\n",
    "# Display Map\n",
    "fig"
   ]
  }
 ],
 "metadata": {
  "kernelspec": {
   "display_name": "Python 3.7.4 64-bit ('base': conda)",
   "language": "python",
   "name": "python37464bitbaseconda1f272b08825b44268b0b382f97a12fd9"
  },
  "language_info": {
   "codemirror_mode": {
    "name": "ipython",
    "version": 3
   },
   "file_extension": ".py",
   "mimetype": "text/x-python",
   "name": "python",
   "nbconvert_exporter": "python",
   "pygments_lexer": "ipython3",
   "version": "3.7.4-final"
  },
  "latex_envs": {
   "LaTeX_envs_menu_present": true,
   "autoclose": false,
   "autocomplete": true,
   "bibliofile": "biblio.bib",
   "cite_by": "apalike",
   "current_citInitial": 1,
   "eqLabelWithNumbers": true,
   "eqNumInitial": 1,
   "hotkeys": {
    "equation": "Ctrl-E",
    "itemize": "Ctrl-I"
   },
   "labels_anchors": false,
   "latex_user_defs": false,
   "report_style_numbering": false,
   "user_envs_cfg": false
  }
 },
 "nbformat": 4,
 "nbformat_minor": 2
}