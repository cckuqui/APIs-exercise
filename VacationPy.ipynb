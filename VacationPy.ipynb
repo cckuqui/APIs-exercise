{
 "cells": [
  {
   "cell_type": "markdown",
   "metadata": {},
   "source": [
    "# VacationPy\n",
    "----\n",
    "\n",
    "#### Note\n",
    "* Instructions have been included for each segment. You do not have to follow them exactly, but they are included to help you think through the steps."
   ]
  },
  {
   "cell_type": "code",
   "execution_count": 15,
   "metadata": {},
   "outputs": [],
   "source": [
    "# Dependencies and Setup\n",
    "import matplotlib.pyplot as plt\n",
    "import pandas as pd\n",
    "import numpy as np\n",
    "import requests\n",
    "import gmaps\n",
    "import os\n",
    "\n",
    "# Import API key\n",
    "from api_keys import g_key\n"
   ]
  },
  {
   "cell_type": "markdown",
   "metadata": {},
   "source": [
    "### Store Part I results into DataFrame\n",
    "* Load the csv exported in Part I to a DataFrame"
   ]
  },
  {
   "cell_type": "code",
   "execution_count": 16,
   "metadata": {},
   "outputs": [
    {
     "data": {
      "text/html": "<div>\n<style scoped>\n    .dataframe tbody tr th:only-of-type {\n        vertical-align: middle;\n    }\n\n    .dataframe tbody tr th {\n        vertical-align: top;\n    }\n\n    .dataframe thead th {\n        text-align: right;\n    }\n</style>\n<table border=\"1\" class=\"dataframe\">\n  <thead>\n    <tr style=\"text-align: right;\">\n      <th></th>\n      <th>Unnamed: 0</th>\n      <th>City</th>\n      <th>Cloudiness</th>\n      <th>Country</th>\n      <th>Date</th>\n      <th>Humidity</th>\n      <th>Lat</th>\n      <th>Lng</th>\n      <th>Max Temp</th>\n      <th>Wind Speed</th>\n    </tr>\n  </thead>\n  <tbody>\n    <tr>\n      <td>0</td>\n      <td>1</td>\n      <td>apt</td>\n      <td>100</td>\n      <td>FR</td>\n      <td>1582789439</td>\n      <td>86</td>\n      <td>43.88</td>\n      <td>5.40</td>\n      <td>5.00</td>\n      <td>1.00</td>\n    </tr>\n    <tr>\n      <td>1</td>\n      <td>2</td>\n      <td>cizre</td>\n      <td>0</td>\n      <td>TR</td>\n      <td>1582789439</td>\n      <td>57</td>\n      <td>37.33</td>\n      <td>42.19</td>\n      <td>11.00</td>\n      <td>3.10</td>\n    </tr>\n    <tr>\n      <td>2</td>\n      <td>3</td>\n      <td>road town</td>\n      <td>1</td>\n      <td>VG</td>\n      <td>1582788931</td>\n      <td>73</td>\n      <td>18.42</td>\n      <td>-64.62</td>\n      <td>23.33</td>\n      <td>2.10</td>\n    </tr>\n    <tr>\n      <td>3</td>\n      <td>4</td>\n      <td>albany</td>\n      <td>90</td>\n      <td>US</td>\n      <td>1582788864</td>\n      <td>80</td>\n      <td>42.60</td>\n      <td>-73.97</td>\n      <td>6.11</td>\n      <td>3.29</td>\n    </tr>\n    <tr>\n      <td>4</td>\n      <td>5</td>\n      <td>east london</td>\n      <td>75</td>\n      <td>ZA</td>\n      <td>1582788889</td>\n      <td>94</td>\n      <td>-33.02</td>\n      <td>27.91</td>\n      <td>21.00</td>\n      <td>3.10</td>\n    </tr>\n    <tr>\n      <td>...</td>\n      <td>...</td>\n      <td>...</td>\n      <td>...</td>\n      <td>...</td>\n      <td>...</td>\n      <td>...</td>\n      <td>...</td>\n      <td>...</td>\n      <td>...</td>\n      <td>...</td>\n    </tr>\n    <tr>\n      <td>585</td>\n      <td>644</td>\n      <td>oussouye</td>\n      <td>0</td>\n      <td>SN</td>\n      <td>1582789560</td>\n      <td>88</td>\n      <td>12.48</td>\n      <td>-16.55</td>\n      <td>23.00</td>\n      <td>2.10</td>\n    </tr>\n    <tr>\n      <td>586</td>\n      <td>645</td>\n      <td>leh</td>\n      <td>100</td>\n      <td>IN</td>\n      <td>1582789561</td>\n      <td>39</td>\n      <td>34.17</td>\n      <td>77.58</td>\n      <td>-9.94</td>\n      <td>0.99</td>\n    </tr>\n    <tr>\n      <td>587</td>\n      <td>646</td>\n      <td>slave lake</td>\n      <td>75</td>\n      <td>CA</td>\n      <td>1582789561</td>\n      <td>55</td>\n      <td>55.28</td>\n      <td>-114.77</td>\n      <td>3.00</td>\n      <td>4.60</td>\n    </tr>\n    <tr>\n      <td>588</td>\n      <td>647</td>\n      <td>moerai</td>\n      <td>100</td>\n      <td>PF</td>\n      <td>1582789561</td>\n      <td>79</td>\n      <td>-22.43</td>\n      <td>-151.33</td>\n      <td>26.75</td>\n      <td>7.29</td>\n    </tr>\n    <tr>\n      <td>589</td>\n      <td>648</td>\n      <td>huai thalaeng</td>\n      <td>20</td>\n      <td>TH</td>\n      <td>1582789561</td>\n      <td>41</td>\n      <td>15.00</td>\n      <td>102.65</td>\n      <td>33.00</td>\n      <td>3.10</td>\n    </tr>\n  </tbody>\n</table>\n<p>590 rows × 10 columns</p>\n</div>",
      "text/plain": "     Unnamed: 0           City  Cloudiness Country        Date  Humidity  \\\n0             1            apt         100      FR  1582789439        86   \n1             2          cizre           0      TR  1582789439        57   \n2             3      road town           1      VG  1582788931        73   \n3             4         albany          90      US  1582788864        80   \n4             5    east london          75      ZA  1582788889        94   \n..          ...            ...         ...     ...         ...       ...   \n585         644       oussouye           0      SN  1582789560        88   \n586         645            leh         100      IN  1582789561        39   \n587         646     slave lake          75      CA  1582789561        55   \n588         647         moerai         100      PF  1582789561        79   \n589         648  huai thalaeng          20      TH  1582789561        41   \n\n       Lat     Lng  Max Temp  Wind Speed  \n0    43.88    5.40      5.00        1.00  \n1    37.33   42.19     11.00        3.10  \n2    18.42  -64.62     23.33        2.10  \n3    42.60  -73.97      6.11        3.29  \n4   -33.02   27.91     21.00        3.10  \n..     ...     ...       ...         ...  \n585  12.48  -16.55     23.00        2.10  \n586  34.17   77.58     -9.94        0.99  \n587  55.28 -114.77      3.00        4.60  \n588 -22.43 -151.33     26.75        7.29  \n589  15.00  102.65     33.00        3.10  \n\n[590 rows x 10 columns]"
     },
     "execution_count": 16,
     "metadata": {},
     "output_type": "execute_result"
    }
   ],
   "source": [
    "cities_df = pd.read_csv(\"Weatherpy/cities.csv\")\n",
    "cities_df"
   ]
  },
  {
   "cell_type": "code",
   "execution_count": 18,
   "metadata": {},
   "outputs": [
    {
     "data": {
      "text/html": "<div>\n<style scoped>\n    .dataframe tbody tr th:only-of-type {\n        vertical-align: middle;\n    }\n\n    .dataframe tbody tr th {\n        vertical-align: top;\n    }\n\n    .dataframe thead th {\n        text-align: right;\n    }\n</style>\n<table border=\"1\" class=\"dataframe\">\n  <thead>\n    <tr style=\"text-align: right;\">\n      <th></th>\n      <th>Unnamed: 0</th>\n      <th>City</th>\n      <th>Cloudiness</th>\n      <th>Country</th>\n      <th>Date</th>\n      <th>Humidity</th>\n      <th>Lat</th>\n      <th>Lng</th>\n      <th>Max Temp</th>\n      <th>Wind Speed</th>\n    </tr>\n  </thead>\n  <tbody>\n    <tr>\n      <td>0</td>\n      <td>1</td>\n      <td>apt</td>\n      <td>100</td>\n      <td>FR</td>\n      <td>1582789439</td>\n      <td>86</td>\n      <td>43.88</td>\n      <td>5.40</td>\n      <td>5.00</td>\n      <td>1.00</td>\n    </tr>\n    <tr>\n      <td>1</td>\n      <td>2</td>\n      <td>cizre</td>\n      <td>0</td>\n      <td>TR</td>\n      <td>1582789439</td>\n      <td>57</td>\n      <td>37.33</td>\n      <td>42.19</td>\n      <td>11.00</td>\n      <td>3.10</td>\n    </tr>\n    <tr>\n      <td>2</td>\n      <td>3</td>\n      <td>road town</td>\n      <td>1</td>\n      <td>VG</td>\n      <td>1582788931</td>\n      <td>73</td>\n      <td>18.42</td>\n      <td>-64.62</td>\n      <td>23.33</td>\n      <td>2.10</td>\n    </tr>\n    <tr>\n      <td>3</td>\n      <td>4</td>\n      <td>albany</td>\n      <td>90</td>\n      <td>US</td>\n      <td>1582788864</td>\n      <td>80</td>\n      <td>42.60</td>\n      <td>-73.97</td>\n      <td>6.11</td>\n      <td>3.29</td>\n    </tr>\n    <tr>\n      <td>4</td>\n      <td>5</td>\n      <td>east london</td>\n      <td>75</td>\n      <td>ZA</td>\n      <td>1582788889</td>\n      <td>94</td>\n      <td>-33.02</td>\n      <td>27.91</td>\n      <td>21.00</td>\n      <td>3.10</td>\n    </tr>\n    <tr>\n      <td>...</td>\n      <td>...</td>\n      <td>...</td>\n      <td>...</td>\n      <td>...</td>\n      <td>...</td>\n      <td>...</td>\n      <td>...</td>\n      <td>...</td>\n      <td>...</td>\n      <td>...</td>\n    </tr>\n    <tr>\n      <td>585</td>\n      <td>644</td>\n      <td>oussouye</td>\n      <td>0</td>\n      <td>SN</td>\n      <td>1582789560</td>\n      <td>88</td>\n      <td>12.48</td>\n      <td>-16.55</td>\n      <td>23.00</td>\n      <td>2.10</td>\n    </tr>\n    <tr>\n      <td>586</td>\n      <td>645</td>\n      <td>leh</td>\n      <td>100</td>\n      <td>IN</td>\n      <td>1582789561</td>\n      <td>39</td>\n      <td>34.17</td>\n      <td>77.58</td>\n      <td>-9.94</td>\n      <td>0.99</td>\n    </tr>\n    <tr>\n      <td>587</td>\n      <td>646</td>\n      <td>slave lake</td>\n      <td>75</td>\n      <td>CA</td>\n      <td>1582789561</td>\n      <td>55</td>\n      <td>55.28</td>\n      <td>-114.77</td>\n      <td>3.00</td>\n      <td>4.60</td>\n    </tr>\n    <tr>\n      <td>588</td>\n      <td>647</td>\n      <td>moerai</td>\n      <td>100</td>\n      <td>PF</td>\n      <td>1582789561</td>\n      <td>79</td>\n      <td>-22.43</td>\n      <td>-151.33</td>\n      <td>26.75</td>\n      <td>7.29</td>\n    </tr>\n    <tr>\n      <td>589</td>\n      <td>648</td>\n      <td>huai thalaeng</td>\n      <td>20</td>\n      <td>TH</td>\n      <td>1582789561</td>\n      <td>41</td>\n      <td>15.00</td>\n      <td>102.65</td>\n      <td>33.00</td>\n      <td>3.10</td>\n    </tr>\n  </tbody>\n</table>\n<p>584 rows × 10 columns</p>\n</div>",
      "text/plain": "     Unnamed: 0           City  Cloudiness Country        Date  Humidity  \\\n0             1            apt         100      FR  1582789439        86   \n1             2          cizre           0      TR  1582789439        57   \n2             3      road town           1      VG  1582788931        73   \n3             4         albany          90      US  1582788864        80   \n4             5    east london          75      ZA  1582788889        94   \n..          ...            ...         ...     ...         ...       ...   \n585         644       oussouye           0      SN  1582789560        88   \n586         645            leh         100      IN  1582789561        39   \n587         646     slave lake          75      CA  1582789561        55   \n588         647         moerai         100      PF  1582789561        79   \n589         648  huai thalaeng          20      TH  1582789561        41   \n\n       Lat     Lng  Max Temp  Wind Speed  \n0    43.88    5.40      5.00        1.00  \n1    37.33   42.19     11.00        3.10  \n2    18.42  -64.62     23.33        2.10  \n3    42.60  -73.97      6.11        3.29  \n4   -33.02   27.91     21.00        3.10  \n..     ...     ...       ...         ...  \n585  12.48  -16.55     23.00        2.10  \n586  34.17   77.58     -9.94        0.99  \n587  55.28 -114.77      3.00        4.60  \n588 -22.43 -151.33     26.75        7.29  \n589  15.00  102.65     33.00        3.10  \n\n[584 rows x 10 columns]"
     },
     "execution_count": 18,
     "metadata": {},
     "output_type": "execute_result"
    }
   ],
   "source": [
    "cities_df = cities_df.dropna(how='any')\n",
    "cities_df"
   ]
  },
  {
   "cell_type": "markdown",
   "metadata": {},
   "source": [
    "### Humidity Heatmap\n",
    "* Configure gmaps.\n",
    "* Use the Lat and Lng as locations and Humidity as the weight.\n",
    "* Add Heatmap layer to map."
   ]
  },
  {
   "cell_type": "code",
   "execution_count": null,
   "metadata": {},
   "outputs": [],
   "source": [
    "\n"
   ]
  },
  {
   "cell_type": "code",
   "execution_count": null,
   "metadata": {},
   "outputs": [],
   "source": [
    "\n"
   ]
  },
  {
   "cell_type": "markdown",
   "metadata": {},
   "source": [
    "### Create new DataFrame fitting weather criteria\n",
    "* Narrow down the cities to fit weather conditions.\n",
    "* Drop any rows will null values."
   ]
  },
  {
   "cell_type": "code",
   "execution_count": null,
   "metadata": {},
   "outputs": [],
   "source": []
  },
  {
   "cell_type": "markdown",
   "metadata": {},
   "source": [
    "### Hotel Map\n",
    "* Store into variable named `hotel_df`.\n",
    "* Add a \"Hotel Name\" column to the DataFrame.\n",
    "* Set parameters to search for hotels with 5000 meters.\n",
    "* Hit the Google Places API for each city's coordinates.\n",
    "* Store the first Hotel result into the DataFrame.\n",
    "* Plot markers on top of the heatmap."
   ]
  },
  {
   "cell_type": "code",
   "execution_count": null,
   "metadata": {},
   "outputs": [],
   "source": []
  },
  {
   "cell_type": "code",
   "execution_count": null,
   "metadata": {},
   "outputs": [],
   "source": []
  },
  {
   "cell_type": "code",
   "execution_count": null,
   "metadata": {},
   "outputs": [],
   "source": [
    "\n"
   ]
  },
  {
   "cell_type": "code",
   "execution_count": null,
   "metadata": {},
   "outputs": [],
   "source": [
    "# NOTE: Do not change any of the code in this cell\n",
    "\n",
    "# Using the template add the hotel marks to the heatmap\n",
    "info_box_template = \"\"\"\n",
    "<dl>\n",
    "<dt>Name</dt><dd>{Hotel Name}</dd>\n",
    "<dt>City</dt><dd>{City}</dd>\n",
    "<dt>Country</dt><dd>{Country}</dd>\n",
    "</dl>\n",
    "\"\"\"\n",
    "# Store the DataFrame Row\n",
    "# NOTE: be sure to update with your DataFrame name\n",
    "hotel_info = [info_box_template.format(**row) for index, row in narrowed_city_df.iterrows()]\n",
    "locations = hotel_df[[\"Lat\", \"Lng\"]]"
   ]
  },
  {
   "cell_type": "code",
   "execution_count": null,
   "metadata": {},
   "outputs": [],
   "source": [
    "# Add marker layer ontop of heat map\n",
    "\n",
    "\n",
    "# Display Map"
   ]
  }
 ],
 "metadata": {
  "kernelspec": {
   "display_name": "Python 3.7.4 64-bit ('base': conda)",
   "language": "python",
   "name": "python37464bitbaseconda1f272b08825b44268b0b382f97a12fd9"
  },
  "language_info": {
   "codemirror_mode": {
    "name": "ipython",
    "version": 3
   },
   "file_extension": ".py",
   "mimetype": "text/x-python",
   "name": "python",
   "nbconvert_exporter": "python",
   "pygments_lexer": "ipython3",
   "version": "3.7.4-final"
  },
  "latex_envs": {
   "LaTeX_envs_menu_present": true,
   "autoclose": false,
   "autocomplete": true,
   "bibliofile": "biblio.bib",
   "cite_by": "apalike",
   "current_citInitial": 1,
   "eqLabelWithNumbers": true,
   "eqNumInitial": 1,
   "hotkeys": {
    "equation": "Ctrl-E",
    "itemize": "Ctrl-I"
   },
   "labels_anchors": false,
   "latex_user_defs": false,
   "report_style_numbering": false,
   "user_envs_cfg": false
  }
 },
 "nbformat": 4,
 "nbformat_minor": 2
}