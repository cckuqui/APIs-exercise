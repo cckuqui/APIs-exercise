{
 "cells": [
  {
   "cell_type": "markdown",
   "execution_count": null,
   "metadata": {},
   "outputs": [],
   "source": [
    "# WeatherPy\n",
    "----\n",
    "\n",
    "#### Note\n",
    "* Instructions have been included for each segment. You do not have to follow them exactly, but they are included to help you think through the steps."
   ]
  },
  {
   "cell_type": "code",
   "execution_count": 1,
   "metadata": {},
   "outputs": [],
   "source": [
    "# Dependencies and Setup\n",
    "import matplotlib.pyplot as plt\n",
    "import pandas as pd\n",
    "import numpy as np\n",
    "import requests\n",
    "import time\n",
    "from scipy.stats import linregress\n",
    "\n",
    "# Import API key\n",
    "from api_keys import weather_api_key\n",
    "\n",
    "# Incorporated citipy to determine city based on latitude and longitude\n",
    "from citipy import citipy\n",
    "\n",
    "# Output File (CSV)\n",
    "output_data_file = \"cities.csv\"\n",
    "\n",
    "# Range of latitudes and longitudes\n",
    "lat_range = (-90, 90)\n",
    "lng_range = (-180, 180)"
   ]
  },
  {
   "cell_type": "markdown",
   "execution_count": null,
   "metadata": {},
   "outputs": [],
   "source": [
    "## Generate Cities List"
   ]
  },
  {
   "cell_type": "code",
   "execution_count": 2,
   "metadata": {},
   "outputs": [
    {
     "data": {
      "text/plain": "610"
     },
     "execution_count": 2,
     "metadata": {},
     "output_type": "execute_result"
    }
   ],
   "source": [
    "# List for holding lat_lngs and cities\n",
    "lat_lngs = []\n",
    "cities = []\n",
    "\n",
    "# Create a set of random lat and lng combinations\n",
    "lats = np.random.uniform(low=-90.000, high=90.000, size=1500)\n",
    "lngs = np.random.uniform(low=-180.000, high=180.000, size=1500)\n",
    "lat_lngs = zip(lats, lngs)\n",
    "\n",
    "# Identify nearest city for each lat, lng combination\n",
    "for lat_lng in lat_lngs:\n",
    "    city = citipy.nearest_city(lat_lng[0], lat_lng[1]).city_name\n",
    "    \n",
    "    # If the city is unique, then add it to a our cities list\n",
    "    if city not in cities:\n",
    "        cities.append(city)\n",
    "\n",
    "# Print the city count to confirm sufficient count\n",
    "len(cities)"
   ]
  },
  {
   "cell_type": "markdown",
   "execution_count": null,
   "metadata": {},
   "outputs": [],
   "source": [
    "### Perform API Calls\n",
    "* Perform a weather check on each city using a series of successive API calls.\n",
    "* Include a print log of each city as it'sbeing processed (with the city number and city name).\n"
   ]
  },
  {
   "cell_type": "code",
   "execution_count": 18,
   "metadata": {},
   "outputs": [
    {
     "name": "stdout",
     "output_type": "stream",
     "text": "ed information for 3625710:Upata.\n------------\nRetrived information for 582956:Alekseyevka.\n------------\nRetrived information for 1278190:Atraulī.\n------------\nRetrived information for 3935288:Minas de Marcona.\n------------\nRetrived information for 1795166:Shima.\n------------\nRetrived information for 5972291:Havre-St-Pierre.\n------------\nCity not found. Skipping.\n------------\nRetrived information for 3985710:Cabo San Lucas.\n------------\nRetrived information for 3547867:Manzanillo.\n------------\nRetrived information for 3372783:Ponta Delgada.\n------------\nRetrived information for 2450173:Taoudenni.\n------------\nRetrived information for 3520989:Puerto Madero.\n------------\nRetrived information for 1631733:Pelabuhanratu.\n------------\nRetrived information for 935214:Saint-Pierre.\n------------\nRetrived information for 1180729:Dalbandin.\n------------\nRetrived information for 2126710:Beringovskiy.\n------------\nRetrived information for 1106677:Bambous Virieux.\n------------\nRetrived information for 5107760:Baldwin.\n------------\nRetrived information for 2013727:Vanavara.\n------------\nRetrived information for 1685006:Tabiauan.\n------------\nCity not found. Skipping.\n------------\nRetrived information for 2629833:Husavik.\n------------\nRetrived information for 3580477:West Bay.\n------------\nRetrived information for 3939168:Huarmey.\n------------\nRetrived information for 561679:Gdov.\n------------\nRetrived information for 3388926:São Caetano de Odivelas.\n------------\nRetrived information for 2512186:Puerto del Rosario.\n------------\nRetrived information for 3407755:Amarante do Maranhão.\n------------\nRetrived information for 1633419:Padang.\n------------\nRetrived information for 2136150:Luganville.\n------------\nRetrived information for 1499053:Megion.\n------------\nRetrived information for 1525988:Ayagoz.\n------------\nRetrived information for 5746545:Portland.\n------------\nRetrived information for 1503153:Klyuchi.\n------------\nRetrived information for 1793424:Taku.\n------------\nCity not found. Skipping.\n------------\nRetrived information for 1648186:Bontang.\n------------\nRetrived information for 2032201:Bulgan.\n------------\nCity not found. Skipping.\n------------\nRetrived information for 2757220:Den Helder.\n------------\nRetrived information for 3860443:Comodoro Rivadavia.\n------------\nRetrived information for 2409306:Freetown.\n------------\nRetrived information for 1790630:Xi'an.\n------------\nRetrived information for 3465487:Coromandel.\n------------\nRetrived information for 5850554:Makakilo City.\n------------\nRetrived information for 1783873:Zhumadian.\n------------\nRetrived information for 3915350:Guayaramerín.\n------------\nRetrived information for 4036284:Alofi.\n------------\nRetrived information for 5392171:San Jose.\n------------\nRetrived information for 3981432:Todos Santos.\n------------\nRetrived information for 6173361:Vanderhoof.\n------------\nRetrived information for 87205:Darnah.\n------------\nRetrived information for 174448:Ālbū Kamāl.\n------------\nRetrived information for 464708:Zaprudnya.\n------------\nRetrived information for 152743:Mto wa Mbu.\n------------\nCity not found. Skipping.\n------------\nRetrived information for 1129648:Qarāwul.\n------------\nRetrived information for 5598264:Latah.\n------------\nRetrived information for 2399371:Makokou.\n------------\nRetrived information for 1637001:Luwuk.\n------------\nRetrived information for 1786855:Yatou.\n------------\nRetrived information for 1650232:Banjar.\n------------\nRetrived information for 2911240:Hamm.\n------------\nRetrived information for 739598:Sinop Province.\n------------\nCity not found. Skipping.\n------------\nRetrived information for 1185251:Lālmohan.\n------------\nRetrived information for 3697441:El Alto.\n------------\nRetrived information for 3466704:Castro.\n------------\nRetrived information for 2618795:Klaksvík.\n------------\nRetrived information for 3207197:Vellmar.\n------------\nRetrived information for 2338660:Yaan.\n------------\nRetrived information for 1863997:Fukuechō.\n------------\nRetrived information for 88834:Tūkrah.\n------------\nRetrived information for 4219762:Rome.\n------------\nRetrived information for 5367788:Lompoc.\n------------\nCity not found. Skipping.\n------------\nRetrived information for 1695065:Panlaitan.\n------------\nRetrived information for 119374:Qeshm.\n------------\nRetrived information for 2654092:Caernarfon.\n------------\nRetrived information for 988290:Komatipoort.\n------------\nRetrived information for 2108502:Honiara.\n------------\nRetrived information for 780687:Berlevåg.\n------------\nRetrived information for 2057087:Kupang.\n------------\nRetrived information for 2063036:Port Lincoln.\n------------\nRetrived information for 884927:Mutoko.\n------------\nRetrived information for 1861450:Ise.\n------------\nRetrived information for 3529612:Ecatepec de Morelos.\n------------\nCity not found. Skipping.\n------------\nRetrived information for 3451138:Rio Grande.\n------------\nRetrived information for 3353383:Rundu.\n------------\nRetrived information for 5856516:‘Āhuimanu.\n------------\nRetrived information for 3354876:Okakarara.\n------------\nRetrived information for 561251:Glebychevo.\n------------\nRetrived information for 4047434:Russell.\n------------\nRetrived information for 6690297:Saint-Leu.\n------------\nRetrived information for 3098722:Gorzów Wielkopolski.\n------------\nRetrived information for 2137773:Vao.\n------------\nRetrived information for 2636910:Stirling.\n------------\nRetrived information for 1215502:Banda Aceh.\n------------\nRetrived information for 1526384:Almaty.\n------------\nRetrived information for 3414079:Olafsvik.\n------------\nRetrived information for 57000:Hobyo.\n------------\nRetrived information for 1801640:Luzhou.\n------------\nRetrived information for 3393115:Paracuru.\n------------\nRetrived information for 3406961:Augusto Corrêa.\n------------\nRetrived information for 1052944:Angoche.\n------------\nRetrived information for 5742974:North Bend.\n------------\nRetrived information for 2160053:Lithgow.\n------------\nRetrived information for 3868707:Valdivia.\n------------\nRetrived information for 2455735:Kangaba.\n------------\nRetrived information for 3466165:Cidreira.\n------------\nRetrived information for 1054500:Tsiombe.\n------------\nRetrived information for 3175773:Grottaglie.\n------------\nRetrived information for 1486321:Yar-Sale.\n------------\nCity not found. Skipping.\n------------\nRetrived information for 2468561:Nefta.\n------------\nRetrived information for 2446796:Bilma.\n------------\nCity not found. Skipping.\n------------\nCity not found. Skipping.\n------------\nRetrived information for 1513491:Yangi Marg`ilon.\n------------\nRetrived information for 3584003:Puerto El Triunfo.\n------------\nRetrived information for 3665210:Rodrigues Alves.\n------------\nRetrived information for 2338242:Ikom.\n------------\nCity not found. Skipping.\n------------\nRetrived information for 1295765:Sittwe.\n------------\nRetrived information for 60019:Eyl.\n------------\nRetrived information for 3628503:San Carlos.\n------------\nRetrived information for 2122614:Okha.\n------------\nRetrived information for 4726521:San Patricio.\n------------\nRetrived information for 1507116:Dudinka.\n------------\nRetrived information for 1265830:Kuchaiburi.\n------------\nRetrived information for 3097257:Jelenia Góra.\n------------\nRetrived information for 1280737:Lhasa.\n------------\nRetrived information for 962367:Richards Bay.\n------------\nRetrived information for 2034655:Suihua.\n------------\nRetrived information for 2122783:Nogliki.\n------------\nRetrived information for 2420561:Gueckedou.\n------------\nRetrived information for 4735729:Taylor.\n------------\nRetrived information for 1688697:San Policarpio.\n------------\nRetrived information for 2755249:Scheemda.\n------------\nRetrived information for 2126682:Bilibino.\n------------\nRetrived information for 1803841:Lianzhou.\n------------\nRetrived information for 3445026:Vila Velha.\n------------\nRetrived information for 2173911:Broken Hill.\n------------\nRetrived information for 6067472:Marystown.\n------------\nRetrived information for 667303:Sfântu Gheorghe.\n------------\nRetrived information for 1047660:Cuamba.\n------------\nRetrived information for 2439376:Tahoua.\n------------\nRetrived information for 5520552:Dumas.\n------------\nCity not found. Skipping.\n------------\nRetrived information for 3904906:Santa Cruz de la Sierra.\n------------\nCity not found. Skipping.\n------------\nRetrived information for 777019:Vardø.\n------------\nRetrived information for 3423146:Ilulissat.\n------------\nRetrived information for 1701053:Marawi City.\n------------\nRetrived information for 3412093:Vestmannaeyjar.\n------------\nRetrived information for 500065:Ryazanovskiy.\n------------\nRetrived information for 105343:Jeddah.\n------------\nRetrived information for 5072006:Lincoln.\n------------\nRetrived information for 2377457:Nouadhibou.\n------------\nRetrived information for 6316343:Alta Floresta.\n------------\nRetrived information for 1490796:Strezhevoy.\n------------\nRetrived information for 3452599:Posse.\n------------\nRetrived information for 286987:Nizwá.\n------------\nRetrived information for 1262905:Mohanūr.\n------------\nRetrived information for 1055429:Toliara.\n------------\nRetrived information for 2641128:Oakham.\n------------\nRetrived information for 2121025:Srednekolymsk.\n------------\nRetrived information for 2421903:Dinguiraye.\n------------\nRetrived information for 2288105:Grand-Lahou.\n------------\nRetrived information for 2138555:Poum.\n------------\nRetrived information for 2449893:Tessalit.\n------------\nRetrived information for 1490256:Talnakh.\n------------\nRetrived information for 2186111:Ngunguru.\n------------\nRetrived information for 5059430:Grand Forks.\n------------\nRetrived information for 64670:Bargaal.\n------------\nRetrived information for 1244926:Hambantota.\n------------\nRetrived information for 667593:Scorniceşti.\n------------\nRetrived information for 160464:Chimala.\n------------\nRetrived information for 1519563:Saryshaghan.\n------------\nRetrived information for 2125693:Evensk.\n------------\nRetrived information for 6111696:Port-Cartier.\n------------\nCity not found. Skipping.\n------------\nRetrived information for 2295385:Shama Junction.\n------------\nRetrived information for 157045:Kirya.\n------------\nRetrived information for 1798760:Pingliang.\n------------\nCity not found. Skipping.\n------------\nRetrived information for 2127060:Arman'.\n------------\nRetrived information for 2077895:Alice Springs.\n------------\nCity not found. Skipping.\n------------\nRetrived information for 3571913:Marsh Harbour.\n------------\nRetrived information for 937246:Zastron.\n------------\nCity not found. Skipping.\n------------\nRetrived information for 4014450:Charo.\n------------\nCity not found. Skipping.\n------------\nRetrived information for 4033077:Vaitape.\n------------\nRetrived information for 2208332:Opotiki.\n------------\nRetrived information for 3577430:Road Town.\n------------\nRetrived information for 2122090:Pevek.\n------------\nRetrived information for 2019309:Neryungri.\n------------\nRetrived information for 3393536:Olinda.\n------------\nRetrived information for 3662761:Porto Walter.\n------------\nRetrived information for 6089245:Norman Wells.\n------------\nRetrived information for 1789647:Xichang.\n------------\nRetrived information for 6171633:Ucluelet.\n------------\nRetrived information for 7647007:Bariloche.\n------------\nRetrived information for 1024312:Mocuba.\n------------\nRetrived information for 3985606:San Luis Potosí City.\n------------\nRetrived information for 2181625:Te Anau.\n------------\nRetrived information for 3391371:Porto Franco.\n------------\nRetrived information for 2191562:Dunedin.\n------------\nRetrived information for 316634:Dinar.\n------------\nRetrived information for 323786:Ankara.\n------------\nRetrived information for 4033543:Teahupoo.\n------------\nRetrived information for 455937:Sabile.\n------------\nRetrived information for 2159220:Mackay.\n------------\nRetrived information for 5713587:Bend.\n------------\nRetrived information for 3007609:Lannion.\n------------\nRetrived information for 2063042:Port Hedland.\n------------\nRetrived information for 3461425:Ilhabela.\n------------\nRetrived information for 3522507:Oaxaca City.\n------------\nRetrived information for 1586185:Cao Bang.\n------------\nRetrived information for 1721077:Cagayan.\n------------\nRetrived information for 1610503:Kaeng Khoi.\n------------\nRetrived information for 5859699:College.\n------------\nRetrived information for 1733782:Labuan.\n------------\nRetrived information for 1525798:Balqash.\n------------\nRetrived information for 1278969:Along.\n------------\nRetrived information for 2218840:Bani Walid.\n------------\nRetrived information for 5339840:Costa Mesa.\n------------\nRetrived information for 2457161:Gao.\n------------\nRetrived information for 3092080:Miastko.\n------------\nRetrived information for 1737714:Limbang.\n------------\nRetrived information for 1082243:Ambilobe.\n------------\nCity not found. Skipping.\n------------\nRetrived information for 3665202:Aripuanã.\n------------\nRetrived information for 3381428:Iracoubo.\n------------\nRetrived information for 2145554:Ulladulla.\n------------\nRetrived information for 4417205:Bay Saint Louis.\n------------\nRetrived information for 1847947:Shingū.\n------------\nRetrived information for 2124286:Korsakov.\n------------\nRetrived information for 6050066:La Ronge.\n------------\nRetrived information for 986134:Kuruman.\n------------\nRetrived information for 1640972:Katobu.\n------------\nRetrived information for 2020838:Lensk.\n------------\nRetrived information for 3448903:São João da Barra.\n------------\nRetrived information for 3373652:Oistins.\n------------\nRetrived information for 933815:Dekar.\n------------\nRetrived information for 2129324:Makubetsu.\n------------\nRetrived information for 2537881:Safi.\n------------\nRetrived information for 487629:Stepantsevo.\n------------\nRetrived information for 172515:Abu Samrah.\n------------\nRetrived information for 1645528:Denpasar.\n------------\nRetrived information for 1628884:Sampit.\n------------\nRetrived information for 2092164:Lorengau.\n------------\nRetrived information for 5601615:Mountain Home.\n------------\nRetrived information for 3936456:Lima.\n------------\nRetrived information for 5955902:Fort Nelson.\n------------\nRetrived information for 3461592:Ibipeba.\n------------\nRetrived information for 3468020:Camapuã.\n------------\nRetrived information for 2447513:Arlit.\n------------\nCity not found. Skipping.\n------------\nRetrived information for 2173125:Burnie.\n------------\nCity not found. Skipping.\n------------\nRetrived information for 3492997:Samaná.\n------------\nRetrived information for 2742416:Barcelos.\n------------\nRetrived information for 3460523:Ituiutaba.\n------------\nRetrived information for 3470583:Barreiras.\n------------\nRetrived information for 2646088:Inverness.\n------------\nRetrived information for 2037485:Erenhot.\n------------\nRetrived information for 1510689:Baykit.\n------------\nRetrived information for 2384770:Mbaïki.\n------------\nRetrived information for 2026861:Berdigestyakh.\n------------\nRetrived information for 3868633:Vallenar.\n------------\nRetrived information for 934475:Grande Rivière Sud Est.\n------------\nRetrived information for 1852357:Shimoda.\n------------\nRetrived information for 1814093:Dali.\n------------\nRetrived information for 3388440:São José do Belmonte.\n------------\nRetrived information for 2292542:Ayamé.\n------------\nRetrived information for 1148709:Anār Darah.\n------------\nRetrived information for 6533368:Moranbah.\n------------\nRetrived information for 1285899:Yamethin.\n------------\nRetrived information for 3361934:Saldanha.\n------------\nRetrived information for 1815395:Chaozhou.\n------------\nRetrived information for 2014927:Tulun.\n------------\nRetrived information for 1226260:Trincomalee.\n------------\nRetrived information for 584279:Adamovka.\n------------\nRetrived information for 3572462:Dunmore Town.\n------------\nRetrived information for 2161515:Kiama.\n------------\nRetrived information for 2333451:Kumo.\n------------\nRetrived information for 1504139:Kayyerkan.\n------------\nRetrived information for 2514651:Los Llanos de Aridane.\n------------\nRetrived information for 3346015:Sumbe.\n------------\nRetrived information for 2206874:Waipawa.\n------------\nRetrived information for 1255634:Srinagar.\n------------\nRetrived information for 610298:Beyneu.\n------------\nRetrived information for 2363490:Vogan.\n------------\nRetrived information for 3441890:Departamento de Maldonado.\n------------\nRetrived information for 298298:Uşak Province.\n------------\nRetrived information for 3382160:Cayenne.\n------------\nRetrived information for 1648082:Boyolangu.\n------------\nRetrived information for 3491161:Bull Savanna.\n------------\nRetrived information for 4034496:Fare.\n------------\nRetrived information for 525426:Sobolevo.\n------------\nRetrived information for 3992842:Petatlán.\n------------\nRetrived information for 3516149:Villa Tecolutilla.\n------------\nRetrived information for 618806:Zhlobin.\n------------\nRetrived information for 1252783:Yārāda.\n------------\nRetrived information for 4034551:Faanui.\n------------\nRetrived information for 707052:Kamianka.\n------------\nRetrived information for 2436400:Ati.\n------------\nRetrived information for 5815342:Wenatchee.\n------------\nRetrived information for 1651591:Amahai.\n------------\nRetrived information for 778707:Mehamn.\n------------\nRetrived information for 3386361:Timon.\n------------\nRetrived information for 2396853:Omboué.\n------------\nRetrived information for 190544:Konza.\n------------\nRetrived information for 3137469:Sørland.\n------------\nRetrived information for 2236967:Soyo.\n------------\nRetrived information for 535839:Leshukonskoye.\n------------\nRetrived information for 2180815:Tuatapere.\n------------\nRetrived information for 3146487:Måløy.\n------------\nRetrived information for 3897347:Calama.\n------------\nRetrived information for 1529376:Korla.\n------------\nRetrived information for 1704442:Macabuboni.\n------------\nRetrived information for 3385935:Tucuruí.\n------------\nRetrived information for 3580733:Bodden Town.\n------------\nRetrived information for 3398428:Humberto de Campos.\n------------\nRetrived information for 1830377:Lumphat.\n------------\nRetrived information for 1803367:Linqing.\n------------\nRetrived information for 1794806:Shizuishan.\n------------\nRetrived information for 3393692:Itarema.\n------------\nRetrived information for 491019:Sol'-Iletsk.\n------------\nRetrived information for 2021017:Kysyl-Syr.\n------------\nRetrived information for 2427336:Moussoro.\n------------\nRetrived information for 2215163:Masallātah.\n------------\nRetrived information for 2294915:Takoradze.\n------------\nRetrived information for 5110365:Broome.\n------------\nRetrived information for 107312:Abqaiq.\n------------\nRetrived information for 366323:Tokār.\n------------\nRetrived information for 3923570:Atocha.\n------------\nCity not found. Skipping.\n------------\nRetrived information for 1057095:Sakaraha.\n------------\nRetrived information for 6453316:Tromsø.\n------------\nRetrived information for 2287958:Guiglo.\n------------\nRetrived information for 1687894:Santa Rosa.\n------------\nRetrived information for 2078025:Adelaide.\n------------\nRetrived information for 5816320:Bainbridge Island.\n------------\nRetrived information for 3451234:Rio Claro.\n------------\nRetrived information for 1520253:Zharkent.\n------------\nRetrived information for 3588476:Tecpán Guatemala.\n------------\nRetrived information for 1280957:Jiayuguan City.\n------------\nRetrived information for 1502073:Krasnosel'kup.\n------------\nRetrived information for 3347939:Lobito.\n------------\nRetrived information for 6113335:Prince Albert.\n------------\nRetrived information for 576195:Bizhbulyak.\n------------\nRetrived information for 3577933:Chateaubelair.\n------------\nRetrived information for 6078372:Moose Factory.\n------------\nRetrived information for 6146143:Sherbrooke.\n------------\nRetrived information for 866062:Iskateley.\n------------\nRetrived information for 2662689:Visby.\n------------\n"
    }
   ],
   "source": [
    "# Load information abou the api\n",
    "url = \"http://api.openweathermap.org/data/2.5/weather?\"\n",
    "units = \"metric\"\n",
    "api_key = weather_api_key\n",
    "\n",
    "# Build partial url\n",
    "query_url = f\"{url}appid={api_key}&units={units}&q=\"\n",
    "\n",
    "# Create dataframe and add columns\n",
    "cities_df = pd.DataFrame({'Cities':cities})\n",
    "cities_df['Cloudiness'] = \"\"\n",
    "cities_df['Country'] = \"\"\n",
    "cities_df['Date'] = \"\"\n",
    "cities_df['Humidity'] = \"\"\n",
    "cities_df['Lat'] = \"\"\n",
    "cities_df['Lng'] = \"\"\n",
    "cities_df['Max Temp'] = \"\"\n",
    "cities_df['Wind Speed'] = \"\"\n",
    "\n",
    "# Use iterrows to iterate through cities dataframe\n",
    "for index, row in cities_df.iterrows():\n",
    "\n",
    "    # get restaurant type from df\n",
    "    city = row['Cities']\n",
    "\n",
    "    # assemble url and make API request   \n",
    "    response = requests.get(query_url+city).json()\n",
    "\n",
    "    try:     \n",
    "        cities_df.loc[index,'Cloudiness'] = response['clouds']['all']\n",
    "        cities_df.loc[index,'Country'] = response['sys']['country']\n",
    "        cities_df.loc[index,'Date'] = response['dt']\n",
    "        cities_df.loc[index,'Humidity'] = response['main']['humidity']\n",
    "        cities_df.loc[index,'Lat'] = response['coord']['lat']\n",
    "        cities_df.loc[index,'Lng'] = response['coord']['lon']\n",
    "        cities_df.loc[index,'Max Temp'] = response['main']['temp_max']\n",
    "        cities_df.loc[index,'Wind Speed'] = response['wind']['speed']\n",
    "        print(f\"Retrived information for {response['id']}:{response['name']}.\")\n",
    "    \n",
    "    except (KeyError, IndexError):\n",
    "        print(\"City not found. Skipping.\")\n",
    "        \n",
    "    print(\"------------\")\n"
   ]
  },
  {
   "cell_type": "markdown",
   "execution_count": null,
   "metadata": {},
   "outputs": [],
   "source": [
    "### Convert Raw Data to DataFrame\n",
    "* Export the city data into a .csv.\n",
    "* Display the DataFrame"
   ]
  },
  {
   "cell_type": "code",
   "execution_count": 19,
   "metadata": {},
   "outputs": [
    {
     "data": {
      "text/html": "<div>\n<style scoped>\n    .dataframe tbody tr th:only-of-type {\n        vertical-align: middle;\n    }\n\n    .dataframe tbody tr th {\n        vertical-align: top;\n    }\n\n    .dataframe thead th {\n        text-align: right;\n    }\n</style>\n<table border=\"1\" class=\"dataframe\">\n  <thead>\n    <tr style=\"text-align: right;\">\n      <th></th>\n      <th>Cities</th>\n      <th>Cloudiness</th>\n      <th>Country</th>\n      <th>Date</th>\n      <th>Humidity</th>\n      <th>Lat</th>\n      <th>Lng</th>\n      <th>Max Temp</th>\n      <th>Wind Speed</th>\n    </tr>\n  </thead>\n  <tbody>\n    <tr>\n      <td>0</td>\n      <td>mataura</td>\n      <td>100</td>\n      <td>NZ</td>\n      <td>1582604449</td>\n      <td>68</td>\n      <td>-46.19</td>\n      <td>168.86</td>\n      <td>19.91</td>\n      <td>0.73</td>\n    </tr>\n    <tr>\n      <td>1</td>\n      <td>deputatskiy</td>\n      <td>37</td>\n      <td>RU</td>\n      <td>1582604449</td>\n      <td>78</td>\n      <td>69.3</td>\n      <td>139.9</td>\n      <td>-26.7</td>\n      <td>1.11</td>\n    </tr>\n    <tr>\n      <td>2</td>\n      <td>vaini</td>\n      <td>20</td>\n      <td>TO</td>\n      <td>1582604449</td>\n      <td>79</td>\n      <td>-21.2</td>\n      <td>-175.2</td>\n      <td>30</td>\n      <td>3.1</td>\n    </tr>\n    <tr>\n      <td>3</td>\n      <td>mahebourg</td>\n      <td>40</td>\n      <td>MU</td>\n      <td>1582604449</td>\n      <td>83</td>\n      <td>-20.41</td>\n      <td>57.7</td>\n      <td>27.22</td>\n      <td>1.5</td>\n    </tr>\n    <tr>\n      <td>4</td>\n      <td>kedrovyy</td>\n      <td>90</td>\n      <td>RU</td>\n      <td>1582604449</td>\n      <td>85</td>\n      <td>56.17</td>\n      <td>91.82</td>\n      <td>-10</td>\n      <td>1.04</td>\n    </tr>\n    <tr>\n      <td>...</td>\n      <td>...</td>\n      <td>...</td>\n      <td>...</td>\n      <td>...</td>\n      <td>...</td>\n      <td>...</td>\n      <td>...</td>\n      <td>...</td>\n      <td>...</td>\n    </tr>\n    <tr>\n      <td>605</td>\n      <td>chateaubelair</td>\n      <td>40</td>\n      <td>VC</td>\n      <td>1582604595</td>\n      <td>83</td>\n      <td>13.28</td>\n      <td>-61.25</td>\n      <td>26</td>\n      <td>6.7</td>\n    </tr>\n    <tr>\n      <td>606</td>\n      <td>moose factory</td>\n      <td>75</td>\n      <td>CA</td>\n      <td>1582604433</td>\n      <td>84</td>\n      <td>51.26</td>\n      <td>-80.61</td>\n      <td>-15</td>\n      <td>2.6</td>\n    </tr>\n    <tr>\n      <td>607</td>\n      <td>sherbrooke</td>\n      <td>1</td>\n      <td>CA</td>\n      <td>1582604509</td>\n      <td>74</td>\n      <td>45.4</td>\n      <td>-71.9</td>\n      <td>3.33</td>\n      <td>1.5</td>\n    </tr>\n    <tr>\n      <td>608</td>\n      <td>iskateley</td>\n      <td>100</td>\n      <td>RU</td>\n      <td>1582604596</td>\n      <td>94</td>\n      <td>67.68</td>\n      <td>53.15</td>\n      <td>-4.48</td>\n      <td>6.37</td>\n    </tr>\n    <tr>\n      <td>609</td>\n      <td>visby</td>\n      <td>100</td>\n      <td>SE</td>\n      <td>1582604389</td>\n      <td>100</td>\n      <td>57.64</td>\n      <td>18.3</td>\n      <td>3.89</td>\n      <td>3.6</td>\n    </tr>\n  </tbody>\n</table>\n<p>610 rows × 9 columns</p>\n</div>",
      "text/plain": "            Cities Cloudiness Country        Date Humidity    Lat     Lng  \\\n0          mataura        100      NZ  1582604449       68 -46.19  168.86   \n1      deputatskiy         37      RU  1582604449       78   69.3   139.9   \n2            vaini         20      TO  1582604449       79  -21.2  -175.2   \n3        mahebourg         40      MU  1582604449       83 -20.41    57.7   \n4         kedrovyy         90      RU  1582604449       85  56.17   91.82   \n..             ...        ...     ...         ...      ...    ...     ...   \n605  chateaubelair         40      VC  1582604595       83  13.28  -61.25   \n606  moose factory         75      CA  1582604433       84  51.26  -80.61   \n607     sherbrooke          1      CA  1582604509       74   45.4   -71.9   \n608      iskateley        100      RU  1582604596       94  67.68   53.15   \n609          visby        100      SE  1582604389      100  57.64    18.3   \n\n    Max Temp Wind Speed  \n0      19.91       0.73  \n1      -26.7       1.11  \n2         30        3.1  \n3      27.22        1.5  \n4        -10       1.04  \n..       ...        ...  \n605       26        6.7  \n606      -15        2.6  \n607     3.33        1.5  \n608    -4.48       6.37  \n609     3.89        3.6  \n\n[610 rows x 9 columns]"
     },
     "execution_count": 19,
     "metadata": {},
     "output_type": "execute_result"
    }
   ],
   "source": [
    "cities_df"
   ]
  },
  {
   "cell_type": "code",
   "execution_count": 21,
   "metadata": {},
   "outputs": [],
   "source": [
    "cities_df.to_csv('cities.csv')"
   ]
  },
  {
   "cell_type": "code",
   "execution_count": null,
   "metadata": {},
   "outputs": [],
   "source": []
  },
  {
   "cell_type": "markdown",
   "execution_count": null,
   "metadata": {},
   "outputs": [],
   "source": [
    "### Plotting the Data\n",
    "* Use proper labeling of the plots using plot titles (including date of analysis) and axes labels.\n",
    "* Save the plotted figures as .pngs."
   ]
  },
  {
   "cell_type": "markdown",
   "execution_count": null,
   "metadata": {},
   "outputs": [],
   "source": [
    "#### Latitude vs. Temperature Plot"
   ]
  },
  {
   "cell_type": "code",
   "execution_count": null,
   "metadata": {
    "scrolled": true
   },
   "outputs": [],
   "source": []
  },
  {
   "cell_type": "markdown",
   "execution_count": null,
   "metadata": {},
   "outputs": [],
   "source": [
    "#### Latitude vs. Humidity Plot"
   ]
  },
  {
   "cell_type": "code",
   "execution_count": null,
   "metadata": {},
   "outputs": [],
   "source": []
  },
  {
   "cell_type": "markdown",
   "execution_count": null,
   "metadata": {},
   "outputs": [],
   "source": [
    "#### Latitude vs. Cloudiness Plot"
   ]
  },
  {
   "cell_type": "code",
   "execution_count": null,
   "metadata": {},
   "outputs": [],
   "source": []
  },
  {
   "cell_type": "markdown",
   "execution_count": null,
   "metadata": {},
   "outputs": [],
   "source": [
    "#### Latitude vs. Wind Speed Plot"
   ]
  },
  {
   "cell_type": "code",
   "execution_count": null,
   "metadata": {},
   "outputs": [],
   "source": []
  },
  {
   "cell_type": "markdown",
   "execution_count": null,
   "metadata": {},
   "outputs": [],
   "source": [
    "## Linear Regression"
   ]
  },
  {
   "cell_type": "code",
   "execution_count": null,
   "metadata": {},
   "outputs": [],
   "source": [
    "# OPTIONAL: Create a function to create Linear Regression plots\n"
   ]
  },
  {
   "cell_type": "code",
   "execution_count": null,
   "metadata": {},
   "outputs": [],
   "source": [
    "# Create Northern and Southern Hemisphere DataFrames\n"
   ]
  },
  {
   "cell_type": "markdown",
   "execution_count": null,
   "metadata": {},
   "outputs": [],
   "source": [
    "####  Northern Hemisphere - Max Temp vs. Latitude Linear Regression"
   ]
  },
  {
   "cell_type": "code",
   "execution_count": null,
   "metadata": {},
   "outputs": [],
   "source": []
  },
  {
   "cell_type": "markdown",
   "execution_count": null,
   "metadata": {},
   "outputs": [],
   "source": [
    "####  Southern Hemisphere - Max Temp vs. Latitude Linear Regression"
   ]
  },
  {
   "cell_type": "code",
   "execution_count": null,
   "metadata": {},
   "outputs": [],
   "source": []
  },
  {
   "cell_type": "markdown",
   "execution_count": null,
   "metadata": {},
   "outputs": [],
   "source": [
    "####  Northern Hemisphere - Humidity (%) vs. Latitude Linear Regression"
   ]
  },
  {
   "cell_type": "code",
   "execution_count": null,
   "metadata": {},
   "outputs": [],
   "source": []
  },
  {
   "cell_type": "markdown",
   "execution_count": null,
   "metadata": {},
   "outputs": [],
   "source": [
    "####  Southern Hemisphere - Humidity (%) vs. Latitude Linear Regression"
   ]
  },
  {
   "cell_type": "code",
   "execution_count": null,
   "metadata": {},
   "outputs": [],
   "source": []
  },
  {
   "cell_type": "markdown",
   "execution_count": null,
   "metadata": {},
   "outputs": [],
   "source": [
    "####  Northern Hemisphere - Cloudiness (%) vs. Latitude Linear Regression"
   ]
  },
  {
   "cell_type": "code",
   "execution_count": null,
   "metadata": {},
   "outputs": [],
   "source": []
  },
  {
   "cell_type": "markdown",
   "execution_count": null,
   "metadata": {},
   "outputs": [],
   "source": [
    "####  Southern Hemisphere - Cloudiness (%) vs. Latitude Linear Regression"
   ]
  },
  {
   "cell_type": "code",
   "execution_count": null,
   "metadata": {},
   "outputs": [],
   "source": []
  },
  {
   "cell_type": "markdown",
   "execution_count": null,
   "metadata": {},
   "outputs": [],
   "source": [
    "####  Northern Hemisphere - Wind Speed (mph) vs. Latitude Linear Regression"
   ]
  },
  {
   "cell_type": "code",
   "execution_count": null,
   "metadata": {},
   "outputs": [],
   "source": []
  },
  {
   "cell_type": "markdown",
   "execution_count": null,
   "metadata": {},
   "outputs": [],
   "source": [
    "####  Southern Hemisphere - Wind Speed (mph) vs. Latitude Linear Regression"
   ]
  },
  {
   "cell_type": "code",
   "execution_count": null,
   "metadata": {},
   "outputs": [],
   "source": []
  },
  {
   "cell_type": "code",
   "execution_count": null,
   "metadata": {},
   "outputs": [],
   "source": []
  }
 ],
 "metadata": {
  "anaconda-cloud": {},
  "kernel_info": {
   "name": "python3"
  },
  "kernelspec": {
   "display_name": "Python 3.7.4 64-bit ('base': conda)",
   "language": "python",
   "name": "python37464bitbaseconda1f272b08825b44268b0b382f97a12fd9"
  },
  "language_info": {
   "codemirror_mode": {
    "name": "ipython",
    "version": 3
   },
   "file_extension": ".py",
   "mimetype": "text/x-python",
   "name": "python",
   "nbconvert_exporter": "python",
   "pygments_lexer": "ipython3",
   "version": "3.7.4-final"
  },
  "latex_envs": {
   "LaTeX_envs_menu_present": true,
   "autoclose": false,
   "autocomplete": true,
   "bibliofile": "biblio.bib",
   "cite_by": "apalike",
   "current_citInitial": 1,
   "eqLabelWithNumbers": true,
   "eqNumInitial": 1,
   "hotkeys": {
    "equation": "Ctrl-E",
    "itemize": "Ctrl-I"
   },
   "labels_anchors": false,
   "latex_user_defs": false,
   "report_style_numbering": false,
   "user_envs_cfg": false
  },
  "nteract": {
   "version": "0.12.3"
  }
 },
 "nbformat": 4,
 "nbformat_minor": 2
}