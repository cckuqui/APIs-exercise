{
 "cells": [
  {
   "cell_type": "markdown",
   "execution_count": null,
   "metadata": {},
   "outputs": [],
   "source": [
    "# WeatherPy\n",
    "----\n",
    "\n",
    "#### Note\n",
    "* Instructions have been included for each segment. You do not have to follow them exactly, but they are included to help you think through the steps."
   ]
  },
  {
   "cell_type": "code",
   "execution_count": 1,
   "metadata": {},
   "outputs": [],
   "source": [
    "# Dependencies and Setup\n",
    "import matplotlib.pyplot as plt\n",
    "import pandas as pd\n",
    "import numpy as np\n",
    "import requests\n",
    "import time\n",
    "from scipy.stats import linregress\n",
    "\n",
    "# Import API key\n",
    "from api_keys import weather_api_key\n",
    "\n",
    "# Incorporated citipy to determine city based on latitude and longitude\n",
    "from citipy import citipy\n",
    "\n",
    "# Output File (CSV)\n",
    "output_data_file = \"cities.csv\"\n",
    "\n",
    "# Range of latitudes and longitudes\n",
    "lat_range = (-90, 90)\n",
    "lng_range = (-180, 180)"
   ]
  },
  {
   "cell_type": "markdown",
   "execution_count": null,
   "metadata": {},
   "outputs": [],
   "source": [
    "## Generate Cities List"
   ]
  },
  {
   "cell_type": "code",
   "execution_count": 2,
   "metadata": {},
   "outputs": [
    {
     "data": {
      "text/plain": "610"
     },
     "execution_count": 2,
     "metadata": {},
     "output_type": "execute_result"
    }
   ],
   "source": [
    "# List for holding lat_lngs and cities\n",
    "lat_lngs = []\n",
    "cities = []\n",
    "\n",
    "# Create a set of random lat and lng combinations\n",
    "lats = np.random.uniform(low=-90.000, high=90.000, size=1500)\n",
    "lngs = np.random.uniform(low=-180.000, high=180.000, size=1500)\n",
    "lat_lngs = zip(lats, lngs)\n",
    "\n",
    "# Identify nearest city for each lat, lng combination\n",
    "for lat_lng in lat_lngs:\n",
    "    city = citipy.nearest_city(lat_lng[0], lat_lng[1]).city_name\n",
    "    \n",
    "    # If the city is unique, then add it to a our cities list\n",
    "    if city not in cities:\n",
    "        cities.append(city)\n",
    "\n",
    "# Print the city count to confirm sufficient count\n",
    "len(cities)"
   ]
  },
  {
   "cell_type": "markdown",
   "execution_count": null,
   "metadata": {},
   "outputs": [],
   "source": [
    "### Perform API Calls\n",
    "* Perform a weather check on each city using a series of successive API calls.\n",
    "* Include a print log of each city as it'sbeing processed (with the city number and city name).\n"
   ]
  },
  {
   "cell_type": "code",
   "execution_count": 5,
   "metadata": {},
   "outputs": [
    {
     "name": "stdout",
     "output_type": "stream",
     "text": "-\nRetrived information for 200:Sarh.\n------------\nRetrived information for 200:Butaritari.\n------------\nRetrived information for 200:Gijang.\n------------\nRetrived information for 200:Tuluceşti.\n------------\nRetrived information for 200:Vostok.\n------------\nRetrived information for 200:Nara.\n------------\nRetrived information for 200:Sinazongwe.\n------------\nRetrived information for 200:Egvekinot.\n------------\nRetrived information for 200:Bengkulu.\n------------\nRetrived information for 200:Karratha.\n------------\nRetrived information for 200:Nome.\n------------\nRetrived information for 200:Batemans Bay.\n------------\nRetrived information for 200:Belaya Gora.\n------------\nRetrived information for 200:Kirakira.\n------------\nRetrived information for 200:Pacific Grove.\n------------\nRetrived information for 200:Shenzhen.\n------------\nRetrived information for 200:Vanimo.\n------------\nRetrived information for 200:Alamogordo.\n------------\nRetrived information for 200:Esperance.\n------------\nRetrived information for 200:Peniche.\n------------\nRetrived information for 200:Kavieng.\n------------\nRetrived information for 200:Honningsvåg.\n------------\nRetrived information for 200:Shenjiamen.\n------------\nRetrived information for 200:Ancud.\n------------\nCity not found. Skipping.\n------------\nRetrived information for 200:Upata.\n------------\nRetrived information for 200:Alekseyevka.\n------------\nRetrived information for 200:Atraulī.\n------------\nRetrived information for 200:Minas de Marcona.\n------------\nRetrived information for 200:Shima.\n------------\nRetrived information for 200:Havre-St-Pierre.\n------------\nCity not found. Skipping.\n------------\nRetrived information for 200:Cabo San Lucas.\n------------\nRetrived information for 200:Manzanillo.\n------------\nRetrived information for 200:Ponta Delgada.\n------------\nRetrived information for 200:Taoudenni.\n------------\nRetrived information for 200:Puerto Madero.\n------------\nRetrived information for 200:Pelabuhanratu.\n------------\nRetrived information for 200:Saint-Pierre.\n------------\nRetrived information for 200:Dalbandin.\n------------\nRetrived information for 200:Beringovskiy.\n------------\nRetrived information for 200:Bambous Virieux.\n------------\nRetrived information for 200:Baldwin.\n------------\nRetrived information for 200:Vanavara.\n------------\nRetrived information for 200:Tabiauan.\n------------\nCity not found. Skipping.\n------------\nRetrived information for 200:Husavik.\n------------\nRetrived information for 200:West Bay.\n------------\nRetrived information for 200:Huarmey.\n------------\nRetrived information for 200:Gdov.\n------------\nRetrived information for 200:São Caetano de Odivelas.\n------------\nRetrived information for 200:Puerto del Rosario.\n------------\nRetrived information for 200:Amarante do Maranhão.\n------------\nRetrived information for 200:Padang.\n------------\nRetrived information for 200:Luganville.\n------------\nRetrived information for 200:Megion.\n------------\nRetrived information for 200:Ayagoz.\n------------\nRetrived information for 200:Portland.\n------------\nRetrived information for 200:Klyuchi.\n------------\nRetrived information for 200:Taku.\n------------\nCity not found. Skipping.\n------------\nRetrived information for 200:Bontang.\n------------\nRetrived information for 200:Bulgan.\n------------\nCity not found. Skipping.\n------------\nRetrived information for 200:Den Helder.\n------------\nRetrived information for 200:Comodoro Rivadavia.\n------------\nRetrived information for 200:Freetown.\n------------\nRetrived information for 200:Xi'an.\n------------\nRetrived information for 200:Coromandel.\n------------\nRetrived information for 200:Makakilo City.\n------------\nRetrived information for 200:Zhumadian.\n------------\nRetrived information for 200:Guayaramerín.\n------------\nRetrived information for 200:Alofi.\n------------\nRetrived information for 200:San Jose.\n------------\nRetrived information for 200:Todos Santos.\n------------\nRetrived information for 200:Vanderhoof.\n------------\nRetrived information for 200:Darnah.\n------------\nRetrived information for 200:Ālbū Kamāl.\n------------\nRetrived information for 200:Zaprudnya.\n------------\nRetrived information for 200:Mto wa Mbu.\n------------\nCity not found. Skipping.\n------------\nRetrived information for 200:Qarāwul.\n------------\nRetrived information for 200:Latah.\n------------\nRetrived information for 200:Makokou.\n------------\nRetrived information for 200:Luwuk.\n------------\nRetrived information for 200:Yatou.\n------------\nRetrived information for 200:Banjar.\n------------\nRetrived information for 200:Hamm.\n------------\nRetrived information for 200:Sinop Province.\n------------\nCity not found. Skipping.\n------------\nRetrived information for 200:Lālmohan.\n------------\nRetrived information for 200:El Alto.\n------------\nRetrived information for 200:Castro.\n------------\nRetrived information for 200:Klaksvík.\n------------\nRetrived information for 200:Vellmar.\n------------\nRetrived information for 200:Yaan.\n------------\nRetrived information for 200:Fukuechō.\n------------\nRetrived information for 200:Tūkrah.\n------------\nRetrived information for 200:Rome.\n------------\nRetrived information for 200:Lompoc.\n------------\nCity not found. Skipping.\n------------\nRetrived information for 200:Panlaitan.\n------------\nRetrived information for 200:Qeshm.\n------------\nRetrived information for 200:Caernarfon.\n------------\nRetrived information for 200:Komatipoort.\n------------\nRetrived information for 200:Honiara.\n------------\nRetrived information for 200:Berlevåg.\n------------\nRetrived information for 200:Kupang.\n------------\nRetrived information for 200:Port Lincoln.\n------------\nRetrived information for 200:Mutoko.\n------------\nRetrived information for 200:Ise.\n------------\nRetrived information for 200:Ecatepec de Morelos.\n------------\nCity not found. Skipping.\n------------\nRetrived information for 200:Rio Grande.\n------------\nRetrived information for 200:Rundu.\n------------\nRetrived information for 200:‘Āhuimanu.\n------------\nRetrived information for 200:Okakarara.\n------------\nRetrived information for 200:Glebychevo.\n------------\nRetrived information for 200:Russell.\n------------\nRetrived information for 200:Saint-Leu.\n------------\nRetrived information for 200:Gorzów Wielkopolski.\n------------\nRetrived information for 200:Vao.\n------------\nRetrived information for 200:Stirling.\n------------\nRetrived information for 200:Banda Aceh.\n------------\nRetrived information for 200:Almaty.\n------------\nRetrived information for 200:Olafsvik.\n------------\nRetrived information for 200:Hobyo.\n------------\nRetrived information for 200:Luzhou.\n------------\nRetrived information for 200:Paracuru.\n------------\nRetrived information for 200:Augusto Corrêa.\n------------\nRetrived information for 200:Angoche.\n------------\nRetrived information for 200:North Bend.\n------------\nRetrived information for 200:Lithgow.\n------------\nRetrived information for 200:Valdivia.\n------------\nRetrived information for 200:Kangaba.\n------------\nRetrived information for 200:Cidreira.\n------------\nRetrived information for 200:Tsiombe.\n------------\nRetrived information for 200:Grottaglie.\n------------\nRetrived information for 200:Yar-Sale.\n------------\nCity not found. Skipping.\n------------\nRetrived information for 200:Nefta.\n------------\nRetrived information for 200:Bilma.\n------------\nCity not found. Skipping.\n------------\nCity not found. Skipping.\n------------\nRetrived information for 200:Yangi Marg`ilon.\n------------\nRetrived information for 200:Puerto El Triunfo.\n------------\nRetrived information for 200:Rodrigues Alves.\n------------\nRetrived information for 200:Ikom.\n------------\nCity not found. Skipping.\n------------\nRetrived information for 200:Sittwe.\n------------\nRetrived information for 200:Eyl.\n------------\nRetrived information for 200:San Carlos.\n------------\nRetrived information for 200:Okha.\n------------\nRetrived information for 200:San Patricio.\n------------\nRetrived information for 200:Dudinka.\n------------\nRetrived information for 200:Kuchaiburi.\n------------\nRetrived information for 200:Jelenia Góra.\n------------\nRetrived information for 200:Lhasa.\n------------\nRetrived information for 200:Richards Bay.\n------------\nRetrived information for 200:Suihua.\n------------\nRetrived information for 200:Nogliki.\n------------\nRetrived information for 200:Gueckedou.\n------------\nRetrived information for 200:Taylor.\n------------\nRetrived information for 200:San Policarpio.\n------------\nRetrived information for 200:Scheemda.\n------------\nRetrived information for 200:Bilibino.\n------------\nRetrived information for 200:Lianzhou.\n------------\nRetrived information for 200:Vila Velha.\n------------\nRetrived information for 200:Broken Hill.\n------------\nRetrived information for 200:Marystown.\n------------\nRetrived information for 200:Sfântu Gheorghe.\n------------\nRetrived information for 200:Cuamba.\n------------\nRetrived information for 200:Tahoua.\n------------\nRetrived information for 200:Dumas.\n------------\nCity not found. Skipping.\n------------\nRetrived information for 200:Santa Cruz de la Sierra.\n------------\nCity not found. Skipping.\n------------\nRetrived information for 200:Vardø.\n------------\nRetrived information for 200:Ilulissat.\n------------\nRetrived information for 200:Marawi City.\n------------\nRetrived information for 200:Vestmannaeyjar.\n------------\nRetrived information for 200:Ryazanovskiy.\n------------\nRetrived information for 200:Jeddah.\n------------\nRetrived information for 200:Lincoln.\n------------\nRetrived information for 200:Nouadhibou.\n------------\nRetrived information for 200:Alta Floresta.\n------------\nRetrived information for 200:Strezhevoy.\n------------\nRetrived information for 200:Posse.\n------------\nRetrived information for 200:Nizwá.\n------------\nRetrived information for 200:Mohanūr.\n------------\nRetrived information for 200:Toliara.\n------------\nRetrived information for 200:Oakham.\n------------\nRetrived information for 200:Srednekolymsk.\n------------\nRetrived information for 200:Dinguiraye.\n------------\nRetrived information for 200:Grand-Lahou.\n------------\nRetrived information for 200:Poum.\n------------\nRetrived information for 200:Tessalit.\n------------\nRetrived information for 200:Talnakh.\n------------\nRetrived information for 200:Ngunguru.\n------------\nRetrived information for 200:Grand Forks.\n------------\nRetrived information for 200:Bargaal.\n------------\nRetrived information for 200:Hambantota.\n------------\nRetrived information for 200:Scorniceşti.\n------------\nRetrived information for 200:Chimala.\n------------\nRetrived information for 200:Saryshaghan.\n------------\nRetrived information for 200:Evensk.\n------------\nRetrived information for 200:Port-Cartier.\n------------\nCity not found. Skipping.\n------------\nRetrived information for 200:Shama Junction.\n------------\nRetrived information for 200:Kirya.\n------------\nRetrived information for 200:Pingliang.\n------------\nCity not found. Skipping.\n------------\nRetrived information for 200:Arman'.\n------------\nRetrived information for 200:Alice Springs.\n------------\nCity not found. Skipping.\n------------\nRetrived information for 200:Marsh Harbour.\n------------\nRetrived information for 200:Zastron.\n------------\nCity not found. Skipping.\n------------\nRetrived information for 200:Charo.\n------------\nCity not found. Skipping.\n------------\nRetrived information for 200:Vaitape.\n------------\nRetrived information for 200:Opotiki.\n------------\nRetrived information for 200:Road Town.\n------------\nRetrived information for 200:Pevek.\n------------\nRetrived information for 200:Neryungri.\n------------\nRetrived information for 200:Olinda.\n------------\nRetrived information for 200:Porto Walter.\n------------\nRetrived information for 200:Norman Wells.\n------------\nRetrived information for 200:Xichang.\n------------\nRetrived information for 200:Ucluelet.\n------------\nRetrived information for 200:Bariloche.\n------------\nRetrived information for 200:Mocuba.\n------------\nRetrived information for 200:San Luis Potosí City.\n------------\nRetrived information for 200:Te Anau.\n------------\nRetrived information for 200:Porto Franco.\n------------\nRetrived information for 200:Dunedin.\n------------\nRetrived information for 200:Dinar.\n------------\nRetrived information for 200:Ankara.\n------------\nRetrived information for 200:Teahupoo.\n------------\nRetrived information for 200:Sabile.\n------------\nRetrived information for 200:Mackay.\n------------\nRetrived information for 200:Bend.\n------------\nRetrived information for 200:Lannion.\n------------\nRetrived information for 200:Port Hedland.\n------------\nRetrived information for 200:Ilhabela.\n------------\nRetrived information for 200:Oaxaca City.\n------------\nRetrived information for 200:Cao Bang.\n------------\nRetrived information for 200:Cagayan.\n------------\nRetrived information for 200:Kaeng Khoi.\n------------\nRetrived information for 200:College.\n------------\nRetrived information for 200:Labuan.\n------------\nRetrived information for 200:Balqash.\n------------\nRetrived information for 200:Along.\n------------\nRetrived information for 200:Bani Walid.\n------------\nRetrived information for 200:Costa Mesa.\n------------\nRetrived information for 200:Gao.\n------------\nRetrived information for 200:Miastko.\n------------\nRetrived information for 200:Limbang.\n------------\nRetrived information for 200:Ambilobe.\n------------\nCity not found. Skipping.\n------------\nRetrived information for 200:Aripuanã.\n------------\nRetrived information for 200:Iracoubo.\n------------\nRetrived information for 200:Ulladulla.\n------------\nRetrived information for 200:Bay Saint Louis.\n------------\nRetrived information for 200:Shingū.\n------------\nRetrived information for 200:Korsakov.\n------------\nRetrived information for 200:La Ronge.\n------------\nRetrived information for 200:Kuruman.\n------------\nRetrived information for 200:Katobu.\n------------\nRetrived information for 200:Lensk.\n------------\nRetrived information for 200:São João da Barra.\n------------\nRetrived information for 200:Oistins.\n------------\nRetrived information for 200:Dekar.\n------------\nRetrived information for 200:Makubetsu.\n------------\nRetrived information for 200:Safi.\n------------\nRetrived information for 200:Stepantsevo.\n------------\nRetrived information for 200:Abu Samrah.\n------------\nRetrived information for 200:Denpasar.\n------------\nRetrived information for 200:Sampit.\n------------\nRetrived information for 200:Lorengau.\n------------\nRetrived information for 200:Mountain Home.\n------------\nRetrived information for 200:Lima.\n------------\nRetrived information for 200:Fort Nelson.\n------------\nRetrived information for 200:Ibipeba.\n------------\nRetrived information for 200:Camapuã.\n------------\nRetrived information for 200:Arlit.\n------------\nCity not found. Skipping.\n------------\nRetrived information for 200:Burnie.\n------------\nCity not found. Skipping.\n------------\nRetrived information for 200:Samaná.\n------------\nRetrived information for 200:Barcelos.\n------------\nRetrived information for 200:Ituiutaba.\n------------\nRetrived information for 200:Barreiras.\n------------\nRetrived information for 200:Inverness.\n------------\nRetrived information for 200:Erenhot.\n------------\nRetrived information for 200:Baykit.\n------------\nRetrived information for 200:Mbaïki.\n------------\nRetrived information for 200:Berdigestyakh.\n------------\nRetrived information for 200:Vallenar.\n------------\nRetrived information for 200:Grande Rivière Sud Est.\n------------\nRetrived information for 200:Shimoda.\n------------\nRetrived information for 200:Dali.\n------------\nRetrived information for 200:São José do Belmonte.\n------------\nRetrived information for 200:Ayamé.\n------------\nRetrived information for 200:Anār Darah.\n------------\nRetrived information for 200:Moranbah.\n------------\nRetrived information for 200:Yamethin.\n------------\nRetrived information for 200:Saldanha.\n------------\nRetrived information for 200:Chaozhou.\n------------\nRetrived information for 200:Tulun.\n------------\nRetrived information for 200:Trincomalee.\n------------\nRetrived information for 200:Adamovka.\n------------\nRetrived information for 200:Dunmore Town.\n------------\nRetrived information for 200:Kiama.\n------------\nRetrived information for 200:Kumo.\n------------\nRetrived information for 200:Kayyerkan.\n------------\nRetrived information for 200:Los Llanos de Aridane.\n------------\nRetrived information for 200:Sumbe.\n------------\nRetrived information for 200:Waipawa.\n------------\nRetrived information for 200:Srinagar.\n------------\nRetrived information for 200:Beyneu.\n------------\nRetrived information for 200:Vogan.\n------------\nRetrived information for 200:Departamento de Maldonado.\n------------\nRetrived information for 200:Uşak Province.\n------------\nRetrived information for 200:Cayenne.\n------------\nRetrived information for 200:Boyolangu.\n------------\nRetrived information for 200:Bull Savanna.\n------------\nRetrived information for 200:Fare.\n------------\nRetrived information for 200:Sobolevo.\n------------\nRetrived information for 200:Petatlán.\n------------\nRetrived information for 200:Villa Tecolutilla.\n------------\nRetrived information for 200:Zhlobin.\n------------\nRetrived information for 200:Yārāda.\n------------\nRetrived information for 200:Faanui.\n------------\nRetrived information for 200:Kamianka.\n------------\nRetrived information for 200:Ati.\n------------\nRetrived information for 200:Wenatchee.\n------------\nRetrived information for 200:Amahai.\n------------\nRetrived information for 200:Mehamn.\n------------\nRetrived information for 200:Timon.\n------------\nRetrived information for 200:Omboué.\n------------\nRetrived information for 200:Konza.\n------------\nRetrived information for 200:Sørland.\n------------\nRetrived information for 200:Soyo.\n------------\nRetrived information for 200:Leshukonskoye.\n------------\nRetrived information for 200:Tuatapere.\n------------\nRetrived information for 200:Måløy.\n------------\nRetrived information for 200:Calama.\n------------\nRetrived information for 200:Korla.\n------------\nRetrived information for 200:Macabuboni.\n------------\nRetrived information for 200:Tucuruí.\n------------\nRetrived information for 200:Bodden Town.\n------------\nRetrived information for 200:Humberto de Campos.\n------------\nRetrived information for 200:Lumphat.\n------------\nRetrived information for 200:Linqing.\n------------\nRetrived information for 200:Shizuishan.\n------------\nRetrived information for 200:Itarema.\n------------\nRetrived information for 200:Sol'-Iletsk.\n------------\nRetrived information for 200:Kysyl-Syr.\n------------\nRetrived information for 200:Moussoro.\n------------\nRetrived information for 200:Masallātah.\n------------\nRetrived information for 200:Takoradze.\n------------\nRetrived information for 200:Broome.\n------------\nRetrived information for 200:Abqaiq.\n------------\nRetrived information for 200:Tokār.\n------------\nRetrived information for 200:Atocha.\n------------\nCity not found. Skipping.\n------------\nRetrived information for 200:Sakaraha.\n------------\nRetrived information for 200:Tromsø.\n------------\nRetrived information for 200:Guiglo.\n------------\nRetrived information for 200:Santa Rosa.\n------------\nRetrived information for 200:Adelaide.\n------------\nRetrived information for 200:Bainbridge Island.\n------------\nRetrived information for 200:Rio Claro.\n------------\nRetrived information for 200:Zharkent.\n------------\nRetrived information for 200:Tecpán Guatemala.\n------------\nRetrived information for 200:Jiayuguan City.\n------------\nRetrived information for 200:Krasnosel'kup.\n------------\nRetrived information for 200:Lobito.\n------------\nRetrived information for 200:Prince Albert.\n------------\nRetrived information for 200:Bizhbulyak.\n------------\nRetrived information for 200:Chateaubelair.\n------------\nRetrived information for 200:Moose Factory.\n------------\nRetrived information for 200:Sherbrooke.\n------------\nRetrived information for 200:Iskateley.\n------------\nRetrived information for 200:Visby.\n------------\n"
    }
   ],
   "source": [
    "# Load information abou the api\n",
    "url = \"http://api.openweathermap.org/data/2.5/weather?\"\n",
    "units = \"metric\"\n",
    "api_key = weather_api_key\n",
    "\n",
    "# Build partial url\n",
    "query_url = f\"{url}appid={api_key}&units={units}&q=\"\n",
    "\n",
    "# Create lists to store the information\n",
    "cloudiness = []\n",
    "country = []\n",
    "date = []\n",
    "humidity = []\n",
    "lat = []\n",
    "lng = []\n",
    "max_temp = []\n",
    "wind_speed = []\n",
    "\n",
    "# Use iterrows to iterate through cities list\n",
    "for city in cities:\n",
    "    \n",
    "    response = requests.get(query_url+city).json()\n",
    "\n",
    "    try:     \n",
    "        cloudiness.append(response['clouds']['all'])\n",
    "        country.append(response['sys']['country'])\n",
    "        date.append(response['dt'])\n",
    "        humidity.append(response['main']['humidity'])\n",
    "        lat.append(response['coord']['lat'])\n",
    "        lng.append(response['coord']['lon'])\n",
    "        max_temp.append(response['main']['temp_max'])\n",
    "        wind_speed.append(response['wind']['speed'])\n",
    "        print(f\"Retrived information for {response['id']}:{response['name']}.\")\n",
    "    \n",
    "    except (KeyError, IndexError):\n",
    "        print(\"City not found. Skipping.\")\n",
    "        \n",
    "    print(\"------------\")\n"
   ]
  },
  {
   "cell_type": "code",
   "execution_count": 9,
   "metadata": {},
   "outputs": [
    {
     "name": "stdout",
     "output_type": "stream",
     "text": "579\n"
    }
   ],
   "source": [
    "print(len(cloudiness))"
   ]
  },
  {
   "cell_type": "code",
   "execution_count": null,
   "metadata": {},
   "outputs": [],
   "source": []
  },
  {
   "cell_type": "markdown",
   "execution_count": null,
   "metadata": {},
   "outputs": [],
   "source": [
    "### Convert Raw Data to DataFrame\n",
    "* Export the city data into a .csv.\n",
    "* Display the DataFrame"
   ]
  },
  {
   "cell_type": "code",
   "execution_count": null,
   "metadata": {},
   "outputs": [],
   "source": []
  },
  {
   "cell_type": "code",
   "execution_count": null,
   "metadata": {},
   "outputs": [],
   "source": []
  },
  {
   "cell_type": "markdown",
   "execution_count": null,
   "metadata": {},
   "outputs": [],
   "source": [
    "### Plotting the Data\n",
    "* Use proper labeling of the plots using plot titles (including date of analysis) and axes labels.\n",
    "* Save the plotted figures as .pngs."
   ]
  },
  {
   "cell_type": "markdown",
   "execution_count": null,
   "metadata": {},
   "outputs": [],
   "source": [
    "#### Latitude vs. Temperature Plot"
   ]
  },
  {
   "cell_type": "code",
   "execution_count": null,
   "metadata": {
    "scrolled": true
   },
   "outputs": [],
   "source": []
  },
  {
   "cell_type": "markdown",
   "execution_count": null,
   "metadata": {},
   "outputs": [],
   "source": [
    "#### Latitude vs. Humidity Plot"
   ]
  },
  {
   "cell_type": "code",
   "execution_count": null,
   "metadata": {},
   "outputs": [],
   "source": []
  },
  {
   "cell_type": "markdown",
   "execution_count": null,
   "metadata": {},
   "outputs": [],
   "source": [
    "#### Latitude vs. Cloudiness Plot"
   ]
  },
  {
   "cell_type": "code",
   "execution_count": null,
   "metadata": {},
   "outputs": [],
   "source": []
  },
  {
   "cell_type": "markdown",
   "execution_count": null,
   "metadata": {},
   "outputs": [],
   "source": [
    "#### Latitude vs. Wind Speed Plot"
   ]
  },
  {
   "cell_type": "code",
   "execution_count": null,
   "metadata": {},
   "outputs": [],
   "source": []
  },
  {
   "cell_type": "markdown",
   "execution_count": null,
   "metadata": {},
   "outputs": [],
   "source": [
    "## Linear Regression"
   ]
  },
  {
   "cell_type": "code",
   "execution_count": null,
   "metadata": {},
   "outputs": [],
   "source": [
    "# OPTIONAL: Create a function to create Linear Regression plots\n"
   ]
  },
  {
   "cell_type": "code",
   "execution_count": null,
   "metadata": {},
   "outputs": [],
   "source": [
    "# Create Northern and Southern Hemisphere DataFrames\n"
   ]
  },
  {
   "cell_type": "markdown",
   "execution_count": null,
   "metadata": {},
   "outputs": [],
   "source": [
    "####  Northern Hemisphere - Max Temp vs. Latitude Linear Regression"
   ]
  },
  {
   "cell_type": "code",
   "execution_count": null,
   "metadata": {},
   "outputs": [],
   "source": []
  },
  {
   "cell_type": "markdown",
   "execution_count": null,
   "metadata": {},
   "outputs": [],
   "source": [
    "####  Southern Hemisphere - Max Temp vs. Latitude Linear Regression"
   ]
  },
  {
   "cell_type": "code",
   "execution_count": null,
   "metadata": {},
   "outputs": [],
   "source": []
  },
  {
   "cell_type": "markdown",
   "execution_count": null,
   "metadata": {},
   "outputs": [],
   "source": [
    "####  Northern Hemisphere - Humidity (%) vs. Latitude Linear Regression"
   ]
  },
  {
   "cell_type": "code",
   "execution_count": null,
   "metadata": {},
   "outputs": [],
   "source": []
  },
  {
   "cell_type": "markdown",
   "execution_count": null,
   "metadata": {},
   "outputs": [],
   "source": [
    "####  Southern Hemisphere - Humidity (%) vs. Latitude Linear Regression"
   ]
  },
  {
   "cell_type": "code",
   "execution_count": null,
   "metadata": {},
   "outputs": [],
   "source": []
  },
  {
   "cell_type": "markdown",
   "execution_count": null,
   "metadata": {},
   "outputs": [],
   "source": [
    "####  Northern Hemisphere - Cloudiness (%) vs. Latitude Linear Regression"
   ]
  },
  {
   "cell_type": "code",
   "execution_count": null,
   "metadata": {},
   "outputs": [],
   "source": []
  },
  {
   "cell_type": "markdown",
   "execution_count": null,
   "metadata": {},
   "outputs": [],
   "source": [
    "####  Southern Hemisphere - Cloudiness (%) vs. Latitude Linear Regression"
   ]
  },
  {
   "cell_type": "code",
   "execution_count": null,
   "metadata": {},
   "outputs": [],
   "source": []
  },
  {
   "cell_type": "markdown",
   "execution_count": null,
   "metadata": {},
   "outputs": [],
   "source": [
    "####  Northern Hemisphere - Wind Speed (mph) vs. Latitude Linear Regression"
   ]
  },
  {
   "cell_type": "code",
   "execution_count": null,
   "metadata": {},
   "outputs": [],
   "source": []
  },
  {
   "cell_type": "markdown",
   "execution_count": null,
   "metadata": {},
   "outputs": [],
   "source": [
    "####  Southern Hemisphere - Wind Speed (mph) vs. Latitude Linear Regression"
   ]
  },
  {
   "cell_type": "code",
   "execution_count": null,
   "metadata": {},
   "outputs": [],
   "source": []
  },
  {
   "cell_type": "code",
   "execution_count": null,
   "metadata": {},
   "outputs": [],
   "source": []
  }
 ],
 "metadata": {
  "anaconda-cloud": {},
  "kernel_info": {
   "name": "python3"
  },
  "kernelspec": {
   "display_name": "Python 3.7.4 64-bit ('base': conda)",
   "language": "python",
   "name": "python37464bitbaseconda1f272b08825b44268b0b382f97a12fd9"
  },
  "language_info": {
   "codemirror_mode": {
    "name": "ipython",
    "version": 3
   },
   "file_extension": ".py",
   "mimetype": "text/x-python",
   "name": "python",
   "nbconvert_exporter": "python",
   "pygments_lexer": "ipython3",
   "version": "3.7.4-final"
  },
  "latex_envs": {
   "LaTeX_envs_menu_present": true,
   "autoclose": false,
   "autocomplete": true,
   "bibliofile": "biblio.bib",
   "cite_by": "apalike",
   "current_citInitial": 1,
   "eqLabelWithNumbers": true,
   "eqNumInitial": 1,
   "hotkeys": {
    "equation": "Ctrl-E",
    "itemize": "Ctrl-I"
   },
   "labels_anchors": false,
   "latex_user_defs": false,
   "report_style_numbering": false,
   "user_envs_cfg": false
  },
  "nteract": {
   "version": "0.12.3"
  }
 },
 "nbformat": 4,
 "nbformat_minor": 2
}